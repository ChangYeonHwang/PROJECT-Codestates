{
  "nbformat": 4,
  "nbformat_minor": 0,
  "metadata": {
    "colab": {
      "name": "AI_06_황창연_section1.ipynb",
      "provenance": []
    },
    "kernelspec": {
      "name": "python3",
      "display_name": "Python 3"
    },
    "language_info": {
      "name": "python"
    }
  },
  "cells": [
    {
      "cell_type": "markdown",
      "metadata": {
        "id": "2Zfpb4Mod5v9"
      },
      "source": [
        "# 기본적 데이터 전처리"
      ]
    },
    {
      "cell_type": "code",
      "metadata": {
        "colab": {
          "resources": {
            "http://localhost:8080/nbextensions/google.colab/files.js": {
              "data": "Ly8gQ29weXJpZ2h0IDIwMTcgR29vZ2xlIExMQwovLwovLyBMaWNlbnNlZCB1bmRlciB0aGUgQXBhY2hlIExpY2Vuc2UsIFZlcnNpb24gMi4wICh0aGUgIkxpY2Vuc2UiKTsKLy8geW91IG1heSBub3QgdXNlIHRoaXMgZmlsZSBleGNlcHQgaW4gY29tcGxpYW5jZSB3aXRoIHRoZSBMaWNlbnNlLgovLyBZb3UgbWF5IG9idGFpbiBhIGNvcHkgb2YgdGhlIExpY2Vuc2UgYXQKLy8KLy8gICAgICBodHRwOi8vd3d3LmFwYWNoZS5vcmcvbGljZW5zZXMvTElDRU5TRS0yLjAKLy8KLy8gVW5sZXNzIHJlcXVpcmVkIGJ5IGFwcGxpY2FibGUgbGF3IG9yIGFncmVlZCB0byBpbiB3cml0aW5nLCBzb2Z0d2FyZQovLyBkaXN0cmlidXRlZCB1bmRlciB0aGUgTGljZW5zZSBpcyBkaXN0cmlidXRlZCBvbiBhbiAiQVMgSVMiIEJBU0lTLAovLyBXSVRIT1VUIFdBUlJBTlRJRVMgT1IgQ09ORElUSU9OUyBPRiBBTlkgS0lORCwgZWl0aGVyIGV4cHJlc3Mgb3IgaW1wbGllZC4KLy8gU2VlIHRoZSBMaWNlbnNlIGZvciB0aGUgc3BlY2lmaWMgbGFuZ3VhZ2UgZ292ZXJuaW5nIHBlcm1pc3Npb25zIGFuZAovLyBsaW1pdGF0aW9ucyB1bmRlciB0aGUgTGljZW5zZS4KCi8qKgogKiBAZmlsZW92ZXJ2aWV3IEhlbHBlcnMgZm9yIGdvb2dsZS5jb2xhYiBQeXRob24gbW9kdWxlLgogKi8KKGZ1bmN0aW9uKHNjb3BlKSB7CmZ1bmN0aW9uIHNwYW4odGV4dCwgc3R5bGVBdHRyaWJ1dGVzID0ge30pIHsKICBjb25zdCBlbGVtZW50ID0gZG9jdW1lbnQuY3JlYXRlRWxlbWVudCgnc3BhbicpOwogIGVsZW1lbnQudGV4dENvbnRlbnQgPSB0ZXh0OwogIGZvciAoY29uc3Qga2V5IG9mIE9iamVjdC5rZXlzKHN0eWxlQXR0cmlidXRlcykpIHsKICAgIGVsZW1lbnQuc3R5bGVba2V5XSA9IHN0eWxlQXR0cmlidXRlc1trZXldOwogIH0KICByZXR1cm4gZWxlbWVudDsKfQoKLy8gTWF4IG51bWJlciBvZiBieXRlcyB3aGljaCB3aWxsIGJlIHVwbG9hZGVkIGF0IGEgdGltZS4KY29uc3QgTUFYX1BBWUxPQURfU0laRSA9IDEwMCAqIDEwMjQ7CgpmdW5jdGlvbiBfdXBsb2FkRmlsZXMoaW5wdXRJZCwgb3V0cHV0SWQpIHsKICBjb25zdCBzdGVwcyA9IHVwbG9hZEZpbGVzU3RlcChpbnB1dElkLCBvdXRwdXRJZCk7CiAgY29uc3Qgb3V0cHV0RWxlbWVudCA9IGRvY3VtZW50LmdldEVsZW1lbnRCeUlkKG91dHB1dElkKTsKICAvLyBDYWNoZSBzdGVwcyBvbiB0aGUgb3V0cHV0RWxlbWVudCB0byBtYWtlIGl0IGF2YWlsYWJsZSBmb3IgdGhlIG5leHQgY2FsbAogIC8vIHRvIHVwbG9hZEZpbGVzQ29udGludWUgZnJvbSBQeXRob24uCiAgb3V0cHV0RWxlbWVudC5zdGVwcyA9IHN0ZXBzOwoKICByZXR1cm4gX3VwbG9hZEZpbGVzQ29udGludWUob3V0cHV0SWQpOwp9CgovLyBUaGlzIGlzIHJvdWdobHkgYW4gYXN5bmMgZ2VuZXJhdG9yIChub3Qgc3VwcG9ydGVkIGluIHRoZSBicm93c2VyIHlldCksCi8vIHdoZXJlIHRoZXJlIGFyZSBtdWx0aXBsZSBhc3luY2hyb25vdXMgc3RlcHMgYW5kIHRoZSBQeXRob24gc2lkZSBpcyBnb2luZwovLyB0byBwb2xsIGZvciBjb21wbGV0aW9uIG9mIGVhY2ggc3RlcC4KLy8gVGhpcyB1c2VzIGEgUHJvbWlzZSB0byBibG9jayB0aGUgcHl0aG9uIHNpZGUgb24gY29tcGxldGlvbiBvZiBlYWNoIHN0ZXAsCi8vIHRoZW4gcGFzc2VzIHRoZSByZXN1bHQgb2YgdGhlIHByZXZpb3VzIHN0ZXAgYXMgdGhlIGlucHV0IHRvIHRoZSBuZXh0IHN0ZXAuCmZ1bmN0aW9uIF91cGxvYWRGaWxlc0NvbnRpbnVlKG91dHB1dElkKSB7CiAgY29uc3Qgb3V0cHV0RWxlbWVudCA9IGRvY3VtZW50LmdldEVsZW1lbnRCeUlkKG91dHB1dElkKTsKICBjb25zdCBzdGVwcyA9IG91dHB1dEVsZW1lbnQuc3RlcHM7CgogIGNvbnN0IG5leHQgPSBzdGVwcy5uZXh0KG91dHB1dEVsZW1lbnQubGFzdFByb21pc2VWYWx1ZSk7CiAgcmV0dXJuIFByb21pc2UucmVzb2x2ZShuZXh0LnZhbHVlLnByb21pc2UpLnRoZW4oKHZhbHVlKSA9PiB7CiAgICAvLyBDYWNoZSB0aGUgbGFzdCBwcm9taXNlIHZhbHVlIHRvIG1ha2UgaXQgYXZhaWxhYmxlIHRvIHRoZSBuZXh0CiAgICAvLyBzdGVwIG9mIHRoZSBnZW5lcmF0b3IuCiAgICBvdXRwdXRFbGVtZW50Lmxhc3RQcm9taXNlVmFsdWUgPSB2YWx1ZTsKICAgIHJldHVybiBuZXh0LnZhbHVlLnJlc3BvbnNlOwogIH0pOwp9CgovKioKICogR2VuZXJhdG9yIGZ1bmN0aW9uIHdoaWNoIGlzIGNhbGxlZCBiZXR3ZWVuIGVhY2ggYXN5bmMgc3RlcCBvZiB0aGUgdXBsb2FkCiAqIHByb2Nlc3MuCiAqIEBwYXJhbSB7c3RyaW5nfSBpbnB1dElkIEVsZW1lbnQgSUQgb2YgdGhlIGlucHV0IGZpbGUgcGlja2VyIGVsZW1lbnQuCiAqIEBwYXJhbSB7c3RyaW5nfSBvdXRwdXRJZCBFbGVtZW50IElEIG9mIHRoZSBvdXRwdXQgZGlzcGxheS4KICogQHJldHVybiB7IUl0ZXJhYmxlPCFPYmplY3Q+fSBJdGVyYWJsZSBvZiBuZXh0IHN0ZXBzLgogKi8KZnVuY3Rpb24qIHVwbG9hZEZpbGVzU3RlcChpbnB1dElkLCBvdXRwdXRJZCkgewogIGNvbnN0IGlucHV0RWxlbWVudCA9IGRvY3VtZW50LmdldEVsZW1lbnRCeUlkKGlucHV0SWQpOwogIGlucHV0RWxlbWVudC5kaXNhYmxlZCA9IGZhbHNlOwoKICBjb25zdCBvdXRwdXRFbGVtZW50ID0gZG9jdW1lbnQuZ2V0RWxlbWVudEJ5SWQob3V0cHV0SWQpOwogIG91dHB1dEVsZW1lbnQuaW5uZXJIVE1MID0gJyc7CgogIGNvbnN0IHBpY2tlZFByb21pc2UgPSBuZXcgUHJvbWlzZSgocmVzb2x2ZSkgPT4gewogICAgaW5wdXRFbGVtZW50LmFkZEV2ZW50TGlzdGVuZXIoJ2NoYW5nZScsIChlKSA9PiB7CiAgICAgIHJlc29sdmUoZS50YXJnZXQuZmlsZXMpOwogICAgfSk7CiAgfSk7CgogIGNvbnN0IGNhbmNlbCA9IGRvY3VtZW50LmNyZWF0ZUVsZW1lbnQoJ2J1dHRvbicpOwogIGlucHV0RWxlbWVudC5wYXJlbnRFbGVtZW50LmFwcGVuZENoaWxkKGNhbmNlbCk7CiAgY2FuY2VsLnRleHRDb250ZW50ID0gJ0NhbmNlbCB1cGxvYWQnOwogIGNvbnN0IGNhbmNlbFByb21pc2UgPSBuZXcgUHJvbWlzZSgocmVzb2x2ZSkgPT4gewogICAgY2FuY2VsLm9uY2xpY2sgPSAoKSA9PiB7CiAgICAgIHJlc29sdmUobnVsbCk7CiAgICB9OwogIH0pOwoKICAvLyBXYWl0IGZvciB0aGUgdXNlciB0byBwaWNrIHRoZSBmaWxlcy4KICBjb25zdCBmaWxlcyA9IHlpZWxkIHsKICAgIHByb21pc2U6IFByb21pc2UucmFjZShbcGlja2VkUHJvbWlzZSwgY2FuY2VsUHJvbWlzZV0pLAogICAgcmVzcG9uc2U6IHsKICAgICAgYWN0aW9uOiAnc3RhcnRpbmcnLAogICAgfQogIH07CgogIGNhbmNlbC5yZW1vdmUoKTsKCiAgLy8gRGlzYWJsZSB0aGUgaW5wdXQgZWxlbWVudCBzaW5jZSBmdXJ0aGVyIHBpY2tzIGFyZSBub3QgYWxsb3dlZC4KICBpbnB1dEVsZW1lbnQuZGlzYWJsZWQgPSB0cnVlOwoKICBpZiAoIWZpbGVzKSB7CiAgICByZXR1cm4gewogICAgICByZXNwb25zZTogewogICAgICAgIGFjdGlvbjogJ2NvbXBsZXRlJywKICAgICAgfQogICAgfTsKICB9CgogIGZvciAoY29uc3QgZmlsZSBvZiBmaWxlcykgewogICAgY29uc3QgbGkgPSBkb2N1bWVudC5jcmVhdGVFbGVtZW50KCdsaScpOwogICAgbGkuYXBwZW5kKHNwYW4oZmlsZS5uYW1lLCB7Zm9udFdlaWdodDogJ2JvbGQnfSkpOwogICAgbGkuYXBwZW5kKHNwYW4oCiAgICAgICAgYCgke2ZpbGUudHlwZSB8fCAnbi9hJ30pIC0gJHtmaWxlLnNpemV9IGJ5dGVzLCBgICsKICAgICAgICBgbGFzdCBtb2RpZmllZDogJHsKICAgICAgICAgICAgZmlsZS5sYXN0TW9kaWZpZWREYXRlID8gZmlsZS5sYXN0TW9kaWZpZWREYXRlLnRvTG9jYWxlRGF0ZVN0cmluZygpIDoKICAgICAgICAgICAgICAgICAgICAgICAgICAgICAgICAgICAgJ24vYSd9IC0gYCkpOwogICAgY29uc3QgcGVyY2VudCA9IHNwYW4oJzAlIGRvbmUnKTsKICAgIGxpLmFwcGVuZENoaWxkKHBlcmNlbnQpOwoKICAgIG91dHB1dEVsZW1lbnQuYXBwZW5kQ2hpbGQobGkpOwoKICAgIGNvbnN0IGZpbGVEYXRhUHJvbWlzZSA9IG5ldyBQcm9taXNlKChyZXNvbHZlKSA9PiB7CiAgICAgIGNvbnN0IHJlYWRlciA9IG5ldyBGaWxlUmVhZGVyKCk7CiAgICAgIHJlYWRlci5vbmxvYWQgPSAoZSkgPT4gewogICAgICAgIHJlc29sdmUoZS50YXJnZXQucmVzdWx0KTsKICAgICAgfTsKICAgICAgcmVhZGVyLnJlYWRBc0FycmF5QnVmZmVyKGZpbGUpOwogICAgfSk7CiAgICAvLyBXYWl0IGZvciB0aGUgZGF0YSB0byBiZSByZWFkeS4KICAgIGxldCBmaWxlRGF0YSA9IHlpZWxkIHsKICAgICAgcHJvbWlzZTogZmlsZURhdGFQcm9taXNlLAogICAgICByZXNwb25zZTogewogICAgICAgIGFjdGlvbjogJ2NvbnRpbnVlJywKICAgICAgfQogICAgfTsKCiAgICAvLyBVc2UgYSBjaHVua2VkIHNlbmRpbmcgdG8gYXZvaWQgbWVzc2FnZSBzaXplIGxpbWl0cy4gU2VlIGIvNjIxMTU2NjAuCiAgICBsZXQgcG9zaXRpb24gPSAwOwogICAgZG8gewogICAgICBjb25zdCBsZW5ndGggPSBNYXRoLm1pbihmaWxlRGF0YS5ieXRlTGVuZ3RoIC0gcG9zaXRpb24sIE1BWF9QQVlMT0FEX1NJWkUpOwogICAgICBjb25zdCBjaHVuayA9IG5ldyBVaW50OEFycmF5KGZpbGVEYXRhLCBwb3NpdGlvbiwgbGVuZ3RoKTsKICAgICAgcG9zaXRpb24gKz0gbGVuZ3RoOwoKICAgICAgY29uc3QgYmFzZTY0ID0gYnRvYShTdHJpbmcuZnJvbUNoYXJDb2RlLmFwcGx5KG51bGwsIGNodW5rKSk7CiAgICAgIHlpZWxkIHsKICAgICAgICByZXNwb25zZTogewogICAgICAgICAgYWN0aW9uOiAnYXBwZW5kJywKICAgICAgICAgIGZpbGU6IGZpbGUubmFtZSwKICAgICAgICAgIGRhdGE6IGJhc2U2NCwKICAgICAgICB9LAogICAgICB9OwoKICAgICAgbGV0IHBlcmNlbnREb25lID0gZmlsZURhdGEuYnl0ZUxlbmd0aCA9PT0gMCA/CiAgICAgICAgICAxMDAgOgogICAgICAgICAgTWF0aC5yb3VuZCgocG9zaXRpb24gLyBmaWxlRGF0YS5ieXRlTGVuZ3RoKSAqIDEwMCk7CiAgICAgIHBlcmNlbnQudGV4dENvbnRlbnQgPSBgJHtwZXJjZW50RG9uZX0lIGRvbmVgOwoKICAgIH0gd2hpbGUgKHBvc2l0aW9uIDwgZmlsZURhdGEuYnl0ZUxlbmd0aCk7CiAgfQoKICAvLyBBbGwgZG9uZS4KICB5aWVsZCB7CiAgICByZXNwb25zZTogewogICAgICBhY3Rpb246ICdjb21wbGV0ZScsCiAgICB9CiAgfTsKfQoKc2NvcGUuZ29vZ2xlID0gc2NvcGUuZ29vZ2xlIHx8IHt9OwpzY29wZS5nb29nbGUuY29sYWIgPSBzY29wZS5nb29nbGUuY29sYWIgfHwge307CnNjb3BlLmdvb2dsZS5jb2xhYi5fZmlsZXMgPSB7CiAgX3VwbG9hZEZpbGVzLAogIF91cGxvYWRGaWxlc0NvbnRpbnVlLAp9Owp9KShzZWxmKTsK",
              "ok": true,
              "headers": [
                [
                  "content-type",
                  "application/javascript"
                ]
              ],
              "status": 200,
              "status_text": ""
            }
          },
          "base_uri": "https://localhost:8080/",
          "height": 75
        },
        "id": "GZxDN-y3m03H",
        "outputId": "5f198522-9a01-4625-b862-f4811f8414a8"
      },
      "source": [
        "import pandas as pd\n",
        "from pandas import Series\n",
        "import numpy as np\n",
        "\n",
        "from google.colab import files \n",
        "uploaded = files.upload()"
      ],
      "execution_count": 2,
      "outputs": [
        {
          "output_type": "display_data",
          "data": {
            "text/html": [
              "\n",
              "     <input type=\"file\" id=\"files-98b49256-787a-4c28-86d2-500556bfde41\" name=\"files[]\" multiple disabled\n",
              "        style=\"border:none\" />\n",
              "     <output id=\"result-98b49256-787a-4c28-86d2-500556bfde41\">\n",
              "      Upload widget is only available when the cell has been executed in the\n",
              "      current browser session. Please rerun this cell to enable.\n",
              "      </output>\n",
              "      <script src=\"/nbextensions/google.colab/files.js\"></script> "
            ],
            "text/plain": [
              "<IPython.core.display.HTML object>"
            ]
          },
          "metadata": {
            "tags": []
          }
        },
        {
          "output_type": "stream",
          "text": [
            "Saving vgames2.csv to vgames2 (1).csv\n"
          ],
          "name": "stdout"
        }
      ]
    },
    {
      "cell_type": "code",
      "metadata": {
        "colab": {
          "base_uri": "https://localhost:8080/",
          "height": 414
        },
        "id": "88vw7q6DnBEL",
        "outputId": "fe562fcb-1691-4bbc-a16d-53b58ba7af75"
      },
      "source": [
        "df = pd.read_csv(\"vgames2.csv\", index_col = 0)\n",
        "df"
      ],
      "execution_count": 3,
      "outputs": [
        {
          "output_type": "execute_result",
          "data": {
            "text/html": [
              "<div>\n",
              "<style scoped>\n",
              "    .dataframe tbody tr th:only-of-type {\n",
              "        vertical-align: middle;\n",
              "    }\n",
              "\n",
              "    .dataframe tbody tr th {\n",
              "        vertical-align: top;\n",
              "    }\n",
              "\n",
              "    .dataframe thead th {\n",
              "        text-align: right;\n",
              "    }\n",
              "</style>\n",
              "<table border=\"1\" class=\"dataframe\">\n",
              "  <thead>\n",
              "    <tr style=\"text-align: right;\">\n",
              "      <th></th>\n",
              "      <th>Name</th>\n",
              "      <th>Platform</th>\n",
              "      <th>Year</th>\n",
              "      <th>Genre</th>\n",
              "      <th>Publisher</th>\n",
              "      <th>NA_Sales</th>\n",
              "      <th>EU_Sales</th>\n",
              "      <th>JP_Sales</th>\n",
              "      <th>Other_Sales</th>\n",
              "    </tr>\n",
              "  </thead>\n",
              "  <tbody>\n",
              "    <tr>\n",
              "      <th>1</th>\n",
              "      <td>Candace Kane's Candy Factory</td>\n",
              "      <td>DS</td>\n",
              "      <td>2008.0</td>\n",
              "      <td>Action</td>\n",
              "      <td>Destineer</td>\n",
              "      <td>0.04</td>\n",
              "      <td>0.00</td>\n",
              "      <td>0.00</td>\n",
              "      <td>0.00</td>\n",
              "    </tr>\n",
              "    <tr>\n",
              "      <th>2</th>\n",
              "      <td>The Munchables</td>\n",
              "      <td>Wii</td>\n",
              "      <td>2009.0</td>\n",
              "      <td>Action</td>\n",
              "      <td>Namco Bandai Games</td>\n",
              "      <td>0.17</td>\n",
              "      <td>0.00</td>\n",
              "      <td>0.00</td>\n",
              "      <td>0.01</td>\n",
              "    </tr>\n",
              "    <tr>\n",
              "      <th>3</th>\n",
              "      <td>Otome wa Oanesama Boku ni Koi Shiteru Portable</td>\n",
              "      <td>PSP</td>\n",
              "      <td>2010.0</td>\n",
              "      <td>Adventure</td>\n",
              "      <td>Alchemist</td>\n",
              "      <td>0.00</td>\n",
              "      <td>0.00</td>\n",
              "      <td>0.02</td>\n",
              "      <td>0.00</td>\n",
              "    </tr>\n",
              "    <tr>\n",
              "      <th>4</th>\n",
              "      <td>Deal or No Deal: Special Edition</td>\n",
              "      <td>DS</td>\n",
              "      <td>2010.0</td>\n",
              "      <td>Misc</td>\n",
              "      <td>Zoo Games</td>\n",
              "      <td>0.04</td>\n",
              "      <td>0.00</td>\n",
              "      <td>0.00</td>\n",
              "      <td>0.00</td>\n",
              "    </tr>\n",
              "    <tr>\n",
              "      <th>5</th>\n",
              "      <td>Ben 10 Ultimate Alien: Cosmic Destruction</td>\n",
              "      <td>PS3</td>\n",
              "      <td>2010.0</td>\n",
              "      <td>Platform</td>\n",
              "      <td>D3Publisher</td>\n",
              "      <td>0.12</td>\n",
              "      <td>0.09</td>\n",
              "      <td>0.00</td>\n",
              "      <td>0.04</td>\n",
              "    </tr>\n",
              "    <tr>\n",
              "      <th>...</th>\n",
              "      <td>...</td>\n",
              "      <td>...</td>\n",
              "      <td>...</td>\n",
              "      <td>...</td>\n",
              "      <td>...</td>\n",
              "      <td>...</td>\n",
              "      <td>...</td>\n",
              "      <td>...</td>\n",
              "      <td>...</td>\n",
              "    </tr>\n",
              "    <tr>\n",
              "      <th>16594</th>\n",
              "      <td>Ice Age 2: The Meltdown</td>\n",
              "      <td>GC</td>\n",
              "      <td>2006.0</td>\n",
              "      <td>Platform</td>\n",
              "      <td>Vivendi Games</td>\n",
              "      <td>0.15</td>\n",
              "      <td>0.04</td>\n",
              "      <td>0.00</td>\n",
              "      <td>0.01</td>\n",
              "    </tr>\n",
              "    <tr>\n",
              "      <th>16595</th>\n",
              "      <td>Rainbow Islands: Revolution</td>\n",
              "      <td>PSP</td>\n",
              "      <td>2005.0</td>\n",
              "      <td>Action</td>\n",
              "      <td>Rising Star Games</td>\n",
              "      <td>0.01</td>\n",
              "      <td>0.00</td>\n",
              "      <td>0.00</td>\n",
              "      <td>0.00</td>\n",
              "    </tr>\n",
              "    <tr>\n",
              "      <th>16596</th>\n",
              "      <td>NBA 2K16</td>\n",
              "      <td>PS3</td>\n",
              "      <td>2015.0</td>\n",
              "      <td>Sports</td>\n",
              "      <td>Take-Two Interactive</td>\n",
              "      <td>0.44</td>\n",
              "      <td>0.19</td>\n",
              "      <td>0.03</td>\n",
              "      <td>0.13</td>\n",
              "    </tr>\n",
              "    <tr>\n",
              "      <th>16597</th>\n",
              "      <td>Toukiden: The Age of Demons</td>\n",
              "      <td>PSV</td>\n",
              "      <td>2013.0</td>\n",
              "      <td>Action</td>\n",
              "      <td>Tecmo Koei</td>\n",
              "      <td>0.05</td>\n",
              "      <td>0.05</td>\n",
              "      <td>0.25</td>\n",
              "      <td>0.03</td>\n",
              "    </tr>\n",
              "    <tr>\n",
              "      <th>16598</th>\n",
              "      <td>The King of Fighters '95</td>\n",
              "      <td>PS</td>\n",
              "      <td>1996.0</td>\n",
              "      <td>Fighting</td>\n",
              "      <td>Sony Computer Entertainment</td>\n",
              "      <td>0.00</td>\n",
              "      <td>0.00</td>\n",
              "      <td>0.16</td>\n",
              "      <td>0.01</td>\n",
              "    </tr>\n",
              "  </tbody>\n",
              "</table>\n",
              "<p>16598 rows × 9 columns</p>\n",
              "</div>"
            ],
            "text/plain": [
              "                                                 Name  ... Other_Sales\n",
              "1                        Candace Kane's Candy Factory  ...        0.00\n",
              "2                                      The Munchables  ...        0.01\n",
              "3      Otome wa Oanesama Boku ni Koi Shiteru Portable  ...        0.00\n",
              "4                    Deal or No Deal: Special Edition  ...        0.00\n",
              "5           Ben 10 Ultimate Alien: Cosmic Destruction  ...        0.04\n",
              "...                                               ...  ...         ...\n",
              "16594                         Ice Age 2: The Meltdown  ...        0.01\n",
              "16595                     Rainbow Islands: Revolution  ...        0.00\n",
              "16596                                        NBA 2K16  ...        0.13\n",
              "16597                     Toukiden: The Age of Demons  ...        0.03\n",
              "16598                        The King of Fighters '95  ...        0.01\n",
              "\n",
              "[16598 rows x 9 columns]"
            ]
          },
          "metadata": {
            "tags": []
          },
          "execution_count": 3
        }
      ]
    },
    {
      "cell_type": "markdown",
      "metadata": {
        "id": "rmz5Y5Z_qAxe"
      },
      "source": [
        "데이터 전처리를 어느 정도 마친 엑셀 파일을 불러오고, Unnamed :0를 제거해주었습니다.\n",
        "\n",
        "저희가 년도별 트렌드 분석을 해야하는 부분이 있어 Year 부분에 있는 결측치와 고르지 못한 자료, 그리고 잘못된 자료들을 일일이 수작업으로 검증하며 고쳤습니다.\n",
        "이는 데이터 자체가 잘못된 것들이라 직접 엑셀에 손을 대는 수밖에 없었습니다.\n",
        "\n",
        "**사족으로, 6393번의 Brothers in Arms: Furious 4 는 개발 과정에서 문제가 생겨 아예 개발이 취소된 작품인데 출고량이 잡혀있습니다. 혹시 개발 중에 예약판매나 클라우드 펀딩을 감수했나 조사해봤는데 그것 역시 해당되지 않는 케이스였습니다. 데이터를 제거할까 고민했으나 너무 뒤늦게 알게 된 케이스라 그냥 그대로 진행했습니다ㅠ**"
      ]
    },
    {
      "cell_type": "code",
      "metadata": {
        "id": "z2AGCBqMnHsi"
      },
      "source": [
        "df[\"NA_Sales\"] = 100 * df[\"NA_Sales\"]"
      ],
      "execution_count": 4,
      "outputs": []
    },
    {
      "cell_type": "code",
      "metadata": {
        "id": "mAIFhlVjosQA"
      },
      "source": [
        "df[\"EU_Sales\"] = 100 * df[\"EU_Sales\"]"
      ],
      "execution_count": 5,
      "outputs": []
    },
    {
      "cell_type": "code",
      "metadata": {
        "id": "6txX2EPLpb1E"
      },
      "source": [
        "df[\"JP_Sales\"] = 100 * df[\"JP_Sales\"]"
      ],
      "execution_count": 6,
      "outputs": []
    },
    {
      "cell_type": "code",
      "metadata": {
        "id": "6JqRKq1Apd4L"
      },
      "source": [
        "df[\"Other_Sales\"] = 100 * df[\"Other_Sales\"]"
      ],
      "execution_count": 7,
      "outputs": []
    },
    {
      "cell_type": "code",
      "metadata": {
        "colab": {
          "base_uri": "https://localhost:8080/",
          "height": 414
        },
        "id": "5EnOaN0vpfKe",
        "outputId": "53d43354-2d7a-4234-cfff-92948ab80264"
      },
      "source": [
        "df"
      ],
      "execution_count": 8,
      "outputs": [
        {
          "output_type": "execute_result",
          "data": {
            "text/html": [
              "<div>\n",
              "<style scoped>\n",
              "    .dataframe tbody tr th:only-of-type {\n",
              "        vertical-align: middle;\n",
              "    }\n",
              "\n",
              "    .dataframe tbody tr th {\n",
              "        vertical-align: top;\n",
              "    }\n",
              "\n",
              "    .dataframe thead th {\n",
              "        text-align: right;\n",
              "    }\n",
              "</style>\n",
              "<table border=\"1\" class=\"dataframe\">\n",
              "  <thead>\n",
              "    <tr style=\"text-align: right;\">\n",
              "      <th></th>\n",
              "      <th>Name</th>\n",
              "      <th>Platform</th>\n",
              "      <th>Year</th>\n",
              "      <th>Genre</th>\n",
              "      <th>Publisher</th>\n",
              "      <th>NA_Sales</th>\n",
              "      <th>EU_Sales</th>\n",
              "      <th>JP_Sales</th>\n",
              "      <th>Other_Sales</th>\n",
              "    </tr>\n",
              "  </thead>\n",
              "  <tbody>\n",
              "    <tr>\n",
              "      <th>1</th>\n",
              "      <td>Candace Kane's Candy Factory</td>\n",
              "      <td>DS</td>\n",
              "      <td>2008.0</td>\n",
              "      <td>Action</td>\n",
              "      <td>Destineer</td>\n",
              "      <td>4.0</td>\n",
              "      <td>0.0</td>\n",
              "      <td>0.0</td>\n",
              "      <td>0.0</td>\n",
              "    </tr>\n",
              "    <tr>\n",
              "      <th>2</th>\n",
              "      <td>The Munchables</td>\n",
              "      <td>Wii</td>\n",
              "      <td>2009.0</td>\n",
              "      <td>Action</td>\n",
              "      <td>Namco Bandai Games</td>\n",
              "      <td>17.0</td>\n",
              "      <td>0.0</td>\n",
              "      <td>0.0</td>\n",
              "      <td>1.0</td>\n",
              "    </tr>\n",
              "    <tr>\n",
              "      <th>3</th>\n",
              "      <td>Otome wa Oanesama Boku ni Koi Shiteru Portable</td>\n",
              "      <td>PSP</td>\n",
              "      <td>2010.0</td>\n",
              "      <td>Adventure</td>\n",
              "      <td>Alchemist</td>\n",
              "      <td>0.0</td>\n",
              "      <td>0.0</td>\n",
              "      <td>2.0</td>\n",
              "      <td>0.0</td>\n",
              "    </tr>\n",
              "    <tr>\n",
              "      <th>4</th>\n",
              "      <td>Deal or No Deal: Special Edition</td>\n",
              "      <td>DS</td>\n",
              "      <td>2010.0</td>\n",
              "      <td>Misc</td>\n",
              "      <td>Zoo Games</td>\n",
              "      <td>4.0</td>\n",
              "      <td>0.0</td>\n",
              "      <td>0.0</td>\n",
              "      <td>0.0</td>\n",
              "    </tr>\n",
              "    <tr>\n",
              "      <th>5</th>\n",
              "      <td>Ben 10 Ultimate Alien: Cosmic Destruction</td>\n",
              "      <td>PS3</td>\n",
              "      <td>2010.0</td>\n",
              "      <td>Platform</td>\n",
              "      <td>D3Publisher</td>\n",
              "      <td>12.0</td>\n",
              "      <td>9.0</td>\n",
              "      <td>0.0</td>\n",
              "      <td>4.0</td>\n",
              "    </tr>\n",
              "    <tr>\n",
              "      <th>...</th>\n",
              "      <td>...</td>\n",
              "      <td>...</td>\n",
              "      <td>...</td>\n",
              "      <td>...</td>\n",
              "      <td>...</td>\n",
              "      <td>...</td>\n",
              "      <td>...</td>\n",
              "      <td>...</td>\n",
              "      <td>...</td>\n",
              "    </tr>\n",
              "    <tr>\n",
              "      <th>16594</th>\n",
              "      <td>Ice Age 2: The Meltdown</td>\n",
              "      <td>GC</td>\n",
              "      <td>2006.0</td>\n",
              "      <td>Platform</td>\n",
              "      <td>Vivendi Games</td>\n",
              "      <td>15.0</td>\n",
              "      <td>4.0</td>\n",
              "      <td>0.0</td>\n",
              "      <td>1.0</td>\n",
              "    </tr>\n",
              "    <tr>\n",
              "      <th>16595</th>\n",
              "      <td>Rainbow Islands: Revolution</td>\n",
              "      <td>PSP</td>\n",
              "      <td>2005.0</td>\n",
              "      <td>Action</td>\n",
              "      <td>Rising Star Games</td>\n",
              "      <td>1.0</td>\n",
              "      <td>0.0</td>\n",
              "      <td>0.0</td>\n",
              "      <td>0.0</td>\n",
              "    </tr>\n",
              "    <tr>\n",
              "      <th>16596</th>\n",
              "      <td>NBA 2K16</td>\n",
              "      <td>PS3</td>\n",
              "      <td>2015.0</td>\n",
              "      <td>Sports</td>\n",
              "      <td>Take-Two Interactive</td>\n",
              "      <td>44.0</td>\n",
              "      <td>19.0</td>\n",
              "      <td>3.0</td>\n",
              "      <td>13.0</td>\n",
              "    </tr>\n",
              "    <tr>\n",
              "      <th>16597</th>\n",
              "      <td>Toukiden: The Age of Demons</td>\n",
              "      <td>PSV</td>\n",
              "      <td>2013.0</td>\n",
              "      <td>Action</td>\n",
              "      <td>Tecmo Koei</td>\n",
              "      <td>5.0</td>\n",
              "      <td>5.0</td>\n",
              "      <td>25.0</td>\n",
              "      <td>3.0</td>\n",
              "    </tr>\n",
              "    <tr>\n",
              "      <th>16598</th>\n",
              "      <td>The King of Fighters '95</td>\n",
              "      <td>PS</td>\n",
              "      <td>1996.0</td>\n",
              "      <td>Fighting</td>\n",
              "      <td>Sony Computer Entertainment</td>\n",
              "      <td>0.0</td>\n",
              "      <td>0.0</td>\n",
              "      <td>16.0</td>\n",
              "      <td>1.0</td>\n",
              "    </tr>\n",
              "  </tbody>\n",
              "</table>\n",
              "<p>16598 rows × 9 columns</p>\n",
              "</div>"
            ],
            "text/plain": [
              "                                                 Name  ... Other_Sales\n",
              "1                        Candace Kane's Candy Factory  ...         0.0\n",
              "2                                      The Munchables  ...         1.0\n",
              "3      Otome wa Oanesama Boku ni Koi Shiteru Portable  ...         0.0\n",
              "4                    Deal or No Deal: Special Edition  ...         0.0\n",
              "5           Ben 10 Ultimate Alien: Cosmic Destruction  ...         4.0\n",
              "...                                               ...  ...         ...\n",
              "16594                         Ice Age 2: The Meltdown  ...         1.0\n",
              "16595                     Rainbow Islands: Revolution  ...         0.0\n",
              "16596                                        NBA 2K16  ...        13.0\n",
              "16597                     Toukiden: The Age of Demons  ...         3.0\n",
              "16598                        The King of Fighters '95  ...         1.0\n",
              "\n",
              "[16598 rows x 9 columns]"
            ]
          },
          "metadata": {
            "tags": []
          },
          "execution_count": 8
        }
      ]
    },
    {
      "cell_type": "markdown",
      "metadata": {
        "id": "J01pZ2IkrW5r"
      },
      "source": [
        "수치를 쉽게 숫자로 받아들일 수 있게 전체 column에 곱셈을 해주었습니다. 단위는 만입니다.\n",
        "\n",
        "이렇게 기본적인 데이터의 전처리를 마쳤습니다. "
      ]
    },
    {
      "cell_type": "markdown",
      "metadata": {
        "id": "8PDTVabUrvK3"
      },
      "source": [
        "# 추가적으로 공부해서 메꿔야 할 부분\n",
        "1. *M,K 등의 숫자 밑 단위를 코딩으로 쉽게 처리가 가능하다. 이를 배워보도록하자(물론 실패한 것이지만...)*\n",
        "2. *각 column에 100을 곱하는 과정을 굳이 코딩 식을 4개씩이나 써서 할 필요가 없을 것 같다(물론 이것 역시도 실패한 것이지만...)* "
      ]
    },
    {
      "cell_type": "markdown",
      "metadata": {
        "id": "5c9qzwVDJGWo"
      },
      "source": [
        "# 1번. 지역에 따라서 선호하는 장르가 다를까?\n",
        "\n",
        "이를 입증하기 위해 먼저 특정 장르를 선별하여 따로 분리해낸 이후 그 장르가 다른 지역에서만 높은 출고량을 갖는지, 즉 특별하게 선호되는 장르가 있는지 확인해보도록 하겠습니다.\n",
        "\n",
        "다만 이를 실행하기 이전에 먼저 구해야하는 값들이 있습니다.\n",
        "### 바로 **인구 수 대비 구매력**입니다. \n",
        "*(이 때 Other_Sales는 정확한 나라에 대한 정보가 없으므로 계산하지 않도록 하겠습니다)*\n",
        "\n",
        "NA이라는 지역으로 묶인 곳의 인구수는 JP와 비교하면 큰 차이를 보일 수 밖에 없습니다. 이는, NA에서 출고량이 높다고 해서 JP보다 무조건적으로 선호도가 높지 않다는 의미가 됩니다.\n",
        "\n",
        "이 때문에 각 지역별로\n",
        "\"평균적인 출고량\"이 **인구수 대비 어느 정도인지 먼저 알아본 이후에** \n",
        "과연 구한 값이 이레귤러인지 아닌지 자료 분석할 예정입니다."
      ]
    },
    {
      "cell_type": "code",
      "metadata": {
        "colab": {
          "base_uri": "https://localhost:8080/"
        },
        "id": "XO2tE0YaP4WK",
        "outputId": "af8cc100-5859-4e18-9ecf-0597b4f57979"
      },
      "source": [
        "df[\"NA_Sales\"].sum()"
      ],
      "execution_count": 9,
      "outputs": [
        {
          "output_type": "execute_result",
          "data": {
            "text/plain": [
              "439295.0"
            ]
          },
          "metadata": {
            "tags": []
          },
          "execution_count": 9
        }
      ]
    },
    {
      "cell_type": "code",
      "metadata": {
        "colab": {
          "base_uri": "https://localhost:8080/"
        },
        "id": "T58qE0N1QNKV",
        "outputId": "682d779d-2a0b-43fc-ad84-81a48915206a"
      },
      "source": [
        "df[\"EU_Sales\"].sum()"
      ],
      "execution_count": 10,
      "outputs": [
        {
          "output_type": "execute_result",
          "data": {
            "text/plain": [
              "243413.0"
            ]
          },
          "metadata": {
            "tags": []
          },
          "execution_count": 10
        }
      ]
    },
    {
      "cell_type": "code",
      "metadata": {
        "colab": {
          "base_uri": "https://localhost:8080/"
        },
        "id": "jUWqLYLZTpo2",
        "outputId": "1cef2f37-d66b-4ab5-b4c9-5d9d61aaa2ab"
      },
      "source": [
        "df[\"JP_Sales\"].sum()"
      ],
      "execution_count": 11,
      "outputs": [
        {
          "output_type": "execute_result",
          "data": {
            "text/plain": [
              "129102.0"
            ]
          },
          "metadata": {
            "tags": []
          },
          "execution_count": 11
        }
      ]
    },
    {
      "cell_type": "markdown",
      "metadata": {
        "id": "wJKvYwLlVCh8"
      },
      "source": [
        "지역별로 전체 출고량을 합쳤습니다.\n",
        "이후 각 지역의 인구로 전체 출고량을 나누어서 평균을 구할 생각입니다.\n",
        "\n",
        "인구수는 대략적으로 인터넷에서 검색해본 결과 일본 1.2억, 미국 3.2억, 유럽 7.4억이 나왔습니다."
      ]
    },
    {
      "cell_type": "code",
      "metadata": {
        "colab": {
          "base_uri": "https://localhost:8080/"
        },
        "id": "KXMjzfsuXi8_",
        "outputId": "1c2b17df-b612-48cf-df0a-0482ae0924f6"
      },
      "source": [
        "NAM = 439295 / 3.2\n",
        "EUM = 243425 / 7.4\n",
        "JPM = 129090 / 1.2\n",
        "\n",
        "print(NAM, EUM, JPM)"
      ],
      "execution_count": 12,
      "outputs": [
        {
          "output_type": "stream",
          "text": [
            "137279.6875 32895.270270270266 107575.0\n"
          ],
          "name": "stdout"
        }
      ]
    },
    {
      "cell_type": "code",
      "metadata": {
        "colab": {
          "base_uri": "https://localhost:8080/"
        },
        "id": "Osay3yd6oZZr",
        "outputId": "8d5bcaca-a897-41f2-f00b-f4cd8171ee3c"
      },
      "source": [
        "D1 = NAM / EUM\n",
        "D2 = JPM / EUM\n",
        "print(D1, D2)"
      ],
      "execution_count": 13,
      "outputs": [
        {
          "output_type": "stream",
          "text": [
            "4.173234825921742 3.2702269692923904\n"
          ],
          "name": "stdout"
        }
      ]
    },
    {
      "cell_type": "markdown",
      "metadata": {
        "id": "PsBufmiiYi37"
      },
      "source": [
        "평균 출고량을 구한 이후 (NAM, EUM, JPM - 지역별 Mean)\n",
        "인구수가 가장 많았던 유럽의 결과값으로 나누어서 NA와 JP의 구매력이 몇 배가 되는지 구해봤습니다.\n",
        "\n",
        "미국의 경우 대략 4.2배, 일본의 경우 대략 3.3배가 되는 것을 확인했습니다(반올림)"
      ]
    },
    {
      "cell_type": "markdown",
      "metadata": {
        "id": "WymyyPXKZGBi"
      },
      "source": [
        "# 인구 대비 평균 출고량\n",
        "\n",
        "# 1(EU) : 4.2(NA) : 3.3(JP)\n",
        "\n",
        "*이렇게 보면 인구 대비 유럽의 출고량이 너무 낮게 잡혀 이상하다고 생각하실 수도 있는데, 현실을 고려하면 이것이 맞는 수치입니다.*\n",
        "\n",
        "*그 이유는 일단 첫째로, 유럽으로 묶인 지역이 너무 광범위하게 넓습니다. 때문에 인구수가 많을 수 밖에 없는 환경입니다. 그런데 그 인구수에 맞지 않게 게임 출고량, 즉 구매량이 적은 이유는 바로 문화와 환경적 차이 때문입니다.*\n",
        "\n",
        "\n",
        "*대도시를 중심으로 삼는 일본과 미국과는 달리(미국은 대도시가 많은 만큼 시골 지역도 많긴 합니다만)*\n",
        "\n",
        "*각 나라 별로 경제적인 발전과 인터넷의 발전이 미국이나 일본에 비해 현저하게 떨어지는 지역이 많고, 이에 따라 게임을 사서 즐기는 사람의 숫자가 굉장히 큰 차이를 보입니다.*\n",
        "\n",
        "그 외에도 여러 문화적인 차이가 있기 때문에 이와 같은 결과가 일어나는 것은 당연하다고 볼 수가 있습니다."
      ]
    },
    {
      "cell_type": "markdown",
      "metadata": {
        "id": "V8x4EmnhbOdP"
      },
      "source": [
        "이제 특정 장르를 뽑아서 과연 위에서 구한 값과 얼마나 차이가 나는지, 즉 선호도에 따라 차이가 날 것인지 아닌지를 알아볼 것입니다."
      ]
    },
    {
      "cell_type": "code",
      "metadata": {
        "colab": {
          "base_uri": "https://localhost:8080/",
          "height": 414
        },
        "id": "Jdnly8Wepfap",
        "outputId": "f8c69e34-03b4-4e6a-be51-6c849797fd07"
      },
      "source": [
        "is_sracing = df[\"Genre\"] == \"Racing\"\n",
        "sracing = df[is_sracing]\n",
        "sracing"
      ],
      "execution_count": 14,
      "outputs": [
        {
          "output_type": "execute_result",
          "data": {
            "text/html": [
              "<div>\n",
              "<style scoped>\n",
              "    .dataframe tbody tr th:only-of-type {\n",
              "        vertical-align: middle;\n",
              "    }\n",
              "\n",
              "    .dataframe tbody tr th {\n",
              "        vertical-align: top;\n",
              "    }\n",
              "\n",
              "    .dataframe thead th {\n",
              "        text-align: right;\n",
              "    }\n",
              "</style>\n",
              "<table border=\"1\" class=\"dataframe\">\n",
              "  <thead>\n",
              "    <tr style=\"text-align: right;\">\n",
              "      <th></th>\n",
              "      <th>Name</th>\n",
              "      <th>Platform</th>\n",
              "      <th>Year</th>\n",
              "      <th>Genre</th>\n",
              "      <th>Publisher</th>\n",
              "      <th>NA_Sales</th>\n",
              "      <th>EU_Sales</th>\n",
              "      <th>JP_Sales</th>\n",
              "      <th>Other_Sales</th>\n",
              "    </tr>\n",
              "  </thead>\n",
              "  <tbody>\n",
              "    <tr>\n",
              "      <th>11</th>\n",
              "      <td>Ford Racing</td>\n",
              "      <td>PS</td>\n",
              "      <td>2001.0</td>\n",
              "      <td>Racing</td>\n",
              "      <td>Empire Interactive</td>\n",
              "      <td>48.0</td>\n",
              "      <td>33.0</td>\n",
              "      <td>0.0</td>\n",
              "      <td>6.0</td>\n",
              "    </tr>\n",
              "    <tr>\n",
              "      <th>27</th>\n",
              "      <td>Starwinder: The Ultimate Space Race</td>\n",
              "      <td>PS</td>\n",
              "      <td>1996.0</td>\n",
              "      <td>Racing</td>\n",
              "      <td>Mindscape</td>\n",
              "      <td>3.0</td>\n",
              "      <td>2.0</td>\n",
              "      <td>0.0</td>\n",
              "      <td>0.0</td>\n",
              "    </tr>\n",
              "    <tr>\n",
              "      <th>30</th>\n",
              "      <td>McGrath Vs. Pastrana Freestyle Motocross</td>\n",
              "      <td>PS</td>\n",
              "      <td>2000.0</td>\n",
              "      <td>Racing</td>\n",
              "      <td>Acclaim Entertainment</td>\n",
              "      <td>14.0</td>\n",
              "      <td>10.0</td>\n",
              "      <td>0.0</td>\n",
              "      <td>2.0</td>\n",
              "    </tr>\n",
              "    <tr>\n",
              "      <th>38</th>\n",
              "      <td>Beamrider</td>\n",
              "      <td>2600</td>\n",
              "      <td>1984.0</td>\n",
              "      <td>Racing</td>\n",
              "      <td>Activision</td>\n",
              "      <td>26.0</td>\n",
              "      <td>1.0</td>\n",
              "      <td>0.0</td>\n",
              "      <td>0.0</td>\n",
              "    </tr>\n",
              "    <tr>\n",
              "      <th>50</th>\n",
              "      <td>Dreamworks Madagascar Kartz</td>\n",
              "      <td>X360</td>\n",
              "      <td>2009.0</td>\n",
              "      <td>Racing</td>\n",
              "      <td>Activision</td>\n",
              "      <td>14.0</td>\n",
              "      <td>9.0</td>\n",
              "      <td>0.0</td>\n",
              "      <td>2.0</td>\n",
              "    </tr>\n",
              "    <tr>\n",
              "      <th>...</th>\n",
              "      <td>...</td>\n",
              "      <td>...</td>\n",
              "      <td>...</td>\n",
              "      <td>...</td>\n",
              "      <td>...</td>\n",
              "      <td>...</td>\n",
              "      <td>...</td>\n",
              "      <td>...</td>\n",
              "      <td>...</td>\n",
              "    </tr>\n",
              "    <tr>\n",
              "      <th>16519</th>\n",
              "      <td>R: Racing Evolution</td>\n",
              "      <td>GC</td>\n",
              "      <td>2003.0</td>\n",
              "      <td>Racing</td>\n",
              "      <td>Namco Bandai Games</td>\n",
              "      <td>6.0</td>\n",
              "      <td>2.0</td>\n",
              "      <td>0.0</td>\n",
              "      <td>0.0</td>\n",
              "    </tr>\n",
              "    <tr>\n",
              "      <th>16534</th>\n",
              "      <td>Mega Man: Battle &amp; Chase</td>\n",
              "      <td>PS</td>\n",
              "      <td>1997.0</td>\n",
              "      <td>Racing</td>\n",
              "      <td>Capcom</td>\n",
              "      <td>0.0</td>\n",
              "      <td>0.0</td>\n",
              "      <td>6.0</td>\n",
              "      <td>0.0</td>\n",
              "    </tr>\n",
              "    <tr>\n",
              "      <th>16540</th>\n",
              "      <td>Juiced 2: Hot Import Nights</td>\n",
              "      <td>DS</td>\n",
              "      <td>2007.0</td>\n",
              "      <td>Racing</td>\n",
              "      <td>THQ</td>\n",
              "      <td>22.0</td>\n",
              "      <td>0.0</td>\n",
              "      <td>0.0</td>\n",
              "      <td>2.0</td>\n",
              "    </tr>\n",
              "    <tr>\n",
              "      <th>16543</th>\n",
              "      <td>Richard Burns Rally</td>\n",
              "      <td>PC</td>\n",
              "      <td>2004.0</td>\n",
              "      <td>Racing</td>\n",
              "      <td>SCi</td>\n",
              "      <td>0.0</td>\n",
              "      <td>3.0</td>\n",
              "      <td>0.0</td>\n",
              "      <td>1.0</td>\n",
              "    </tr>\n",
              "    <tr>\n",
              "      <th>16557</th>\n",
              "      <td>Zen-Nippon GT Senshuken</td>\n",
              "      <td>SNES</td>\n",
              "      <td>1995.0</td>\n",
              "      <td>Racing</td>\n",
              "      <td>Banpresto</td>\n",
              "      <td>0.0</td>\n",
              "      <td>0.0</td>\n",
              "      <td>4.0</td>\n",
              "      <td>0.0</td>\n",
              "    </tr>\n",
              "  </tbody>\n",
              "</table>\n",
              "<p>1243 rows × 9 columns</p>\n",
              "</div>"
            ],
            "text/plain": [
              "                                           Name Platform  ...  JP_Sales Other_Sales\n",
              "11                                  Ford Racing       PS  ...       0.0         6.0\n",
              "27          Starwinder: The Ultimate Space Race       PS  ...       0.0         0.0\n",
              "30     McGrath Vs. Pastrana Freestyle Motocross       PS  ...       0.0         2.0\n",
              "38                                    Beamrider     2600  ...       0.0         0.0\n",
              "50                  Dreamworks Madagascar Kartz     X360  ...       0.0         2.0\n",
              "...                                         ...      ...  ...       ...         ...\n",
              "16519                       R: Racing Evolution       GC  ...       0.0         0.0\n",
              "16534                  Mega Man: Battle & Chase       PS  ...       6.0         0.0\n",
              "16540               Juiced 2: Hot Import Nights       DS  ...       0.0         2.0\n",
              "16543                       Richard Burns Rally       PC  ...       0.0         1.0\n",
              "16557                   Zen-Nippon GT Senshuken     SNES  ...       4.0         0.0\n",
              "\n",
              "[1243 rows x 9 columns]"
            ]
          },
          "metadata": {
            "tags": []
          },
          "execution_count": 14
        }
      ]
    },
    {
      "cell_type": "markdown",
      "metadata": {
        "id": "_v9epN42fJbe"
      },
      "source": [
        "Racing 장르만 따로 빼냈습니다. 이후 평균치를 구하는 방식은 위와 동일하게 진행할 예정입니다.\n",
        "\n",
        "그 이전에 먼저 각 지역별로 총 출고량 먼저 살펴보겠습니다."
      ]
    },
    {
      "cell_type": "code",
      "metadata": {
        "colab": {
          "base_uri": "https://localhost:8080/"
        },
        "id": "fkhGDzbGRqt6",
        "outputId": "31747f76-23b9-4480-85e8-1257c8804503"
      },
      "source": [
        "rm1 = sracing[\"NA_Sales\"].sum()\n",
        "rm2 = sracing[\"EU_Sales\"].sum()\n",
        "rm3 = sracing[\"JP_Sales\"].sum()\n",
        "\n",
        "print(rm1, rm2, rm3)"
      ],
      "execution_count": 15,
      "outputs": [
        {
          "output_type": "stream",
          "text": [
            "35719.0 23710.0 5640.0\n"
          ],
          "name": "stdout"
        }
      ]
    },
    {
      "cell_type": "markdown",
      "metadata": {
        "id": "2dx0F40rqg9B"
      },
      "source": [
        "이제 각 지역별 출고량에 인구수를 나누어서 위에서 구했던 평균적인 구매력 대비 수치 차이가 어느 정도 나는지 알아보도록 하겠습니다."
      ]
    },
    {
      "cell_type": "code",
      "metadata": {
        "colab": {
          "base_uri": "https://localhost:8080/"
        },
        "id": "YIkPLlCknKnn",
        "outputId": "085c4d79-f25e-44f3-b8fe-02fded9b1330"
      },
      "source": [
        "rm1 = rm1 / 3.2\n",
        "rm2 = rm2 / 7.4\n",
        "rm3 = rm3 / 1.2\n",
        "\n",
        "r1 = rm1 / rm2\n",
        "r2 = rm3 / rm2\n",
        "\n",
        "print(r1, r2)"
      ],
      "execution_count": 16,
      "outputs": [
        {
          "output_type": "stream",
          "text": [
            "3.4837700337410378 1.466891606916913\n"
          ],
          "name": "stdout"
        }
      ]
    },
    {
      "cell_type": "markdown",
      "metadata": {
        "id": "jW72YSF5c2gF"
      },
      "source": [
        "그러나 일반적으로 보였던 개인당 구매량\n",
        "\n",
        "EU가 보인 Racing 장르의 출고량이 1일 시 NA는 6.6으로 위에서 봤던 평균 출고량, 4.2와 굉장히 큰 차이를 보입니다.\n",
        "\n",
        "JP는 정반대로 1.4로, 위에서 봤던 평균 출고량 3.3에 비해서 현저하게 떨어진 수치를 보입니다.\n",
        "\n",
        "이를 통해 저희는 Racing 종목이 NA 지역에서 굉장히 선호되고 있으며, 일본에서는 상대적으로 그렇지 않다는 것을 알 수가 있습니다."
      ]
    },
    {
      "cell_type": "code",
      "metadata": {
        "colab": {
          "base_uri": "https://localhost:8080/"
        },
        "id": "avhdKEWfhAXY",
        "outputId": "82fdccdb-0d9b-48a3-f471-21971ff8c95e"
      },
      "source": [
        "is_role = df[\"Genre\"] == \"Role-Playing\"\n",
        "srole = df[is_role]\n",
        "srole\n",
        "\n",
        "rom1 = srole[\"NA_Sales\"].sum()\n",
        "rom2 = srole[\"EU_Sales\"].sum()\n",
        "rom3 = srole[\"JP_Sales\"].sum()\n",
        "\n",
        "rom1 = rom1 / 3.2\n",
        "rom2 = rom2 / 7.4\n",
        "rom3 = rom3 / 1.2\n",
        "\n",
        "ro1 = rom1 / rom2\n",
        "ro2 = rom3 / rom2\n",
        "\n",
        "print(ro1, ro2)"
      ],
      "execution_count": 17,
      "outputs": [
        {
          "output_type": "stream",
          "text": [
            "4.0251457130406365 11.58727348658169\n"
          ],
          "name": "stdout"
        }
      ]
    },
    {
      "cell_type": "markdown",
      "metadata": {
        "id": "sW4UNzsvpXty"
      },
      "source": [
        "다른 예시로 이번엔 Role-Playing 게임을 들고 왔습니다.\n",
        "\n",
        "NA에서는 4.025 정도로 기존의 4.2와 거의 비슷한 값이 나왔습니다.\n",
        "\n",
        "그러나 반대로 일본에서는 11.59라는 무시무시한 수치를 보이면서 기존의 3.3과는 비교도 안 될 정도로 큰 강세를 보여주고 있습니다. 거의 3배에 달하는 이 수치는 JP에서 Role-Playing 장르에 대해 강한 선호도를 갖고 있다는 증거로 충분하다고 생각됩니다."
      ]
    },
    {
      "cell_type": "markdown",
      "metadata": {
        "id": "xCFyoVWarCIY"
      },
      "source": [
        "# 2. 연도별 게임의 트렌드가 있을까\n",
        "위의 가설을 검증하기 위해 이번에도 역시 먼저 짚고 넘어가야할 부분이 있습니다."
      ]
    },
    {
      "cell_type": "markdown",
      "metadata": {
        "id": "7YNJ2Jb-yKUH"
      },
      "source": [
        "### **그것은 바로 게임산업이 가지고 있는 한계점이 있다는 것입니다.**\n",
        "이는 자료와 함께 밑에서 더 설명하도록 하겠습니다."
      ]
    },
    {
      "cell_type": "markdown",
      "metadata": {
        "id": "gpHEcdTUJcnh"
      },
      "source": [
        "**### 또 다른 문제는 바로 \"트렌드가 무엇인가\"**\n",
        "라는 문제입니다.\n",
        "\n",
        "특정 게임이 유행하고 나면 비슷한 게임이 뜨는 현상이 생깁니다(어몽어스 이후 마피아 게임)\n",
        "반대로 특정 게임이 유행하고 나면 비슷한 게임이 쏟아지는 현상도 있습니다(개발자 입장)\n",
        "\n",
        "첫 번째는 소비자들의 트렌드입니다\n",
        "당시 어떤 게임이 재밌음을 느끼고 비슷한 류의 게임을 찾는 노력이 있고, 그게 트렌드를 만든다는 것\n",
        "근데 여기에서 중요한 점이 무엇이냐하면 이것은 출고량에 “그대로 반영되는 것이 아니라는 것\"입니다.\n",
        "오히려 전 분기, 전 년도에 낮았던 출고량이 늘어나는 방식 등을 통해 파악이 가능한데, 주어진 것은 총 전체적인 출고량이기 때문에 제대로 알 수가 없습니다.\n",
        "\n",
        "두 번째는 게임을 만드는 개발자로서의 트렌드입니다.\n",
        "콘솔, 컴퓨터 게임의 시장은 모바일과는 달리 개발에 시간이 오래 걸리고, 환경적인 요소에 영향을 많이 받습니다.\n",
        "저희에게 주어진 데이터는 콘솔 및 컴퓨터 게임의 시장인데, 특정 장르가 흥한다고 해서 바로 그 다음 분기, 혹은 그 다음 년도에 작품들이 쏟아져 나오는 것이 불가능합니다.\n",
        "개발 기간도 있고, 비슷한 류의 게임이 몰려나오면 오히려 팀킬이 벌어지는 경우도 있다는 점입니다. 그리고, 이 역시 출고량이라는 데이터로는 증가폭을 알 수가 없기 때문에 문제가 된다는 점이 있습니다.\n",
        "그 외에도 개발 환경이나 여러 요소 등에 따라 여러 문제가 생기기 때문에, 개인적인 생각으로는 주어진 자료인 출고량으로는 질문에 대한 답을 하는 것이 불가능하다고 생각합니다."
      ]
    },
    {
      "cell_type": "markdown",
      "metadata": {
        "id": "8hb4hyzTA01P"
      },
      "source": [
        "그러나 그럼에도 불구하고 저희는 답을 찾아내야 하기에, 이를 찾아낼 방법을 고안해보았습니다.\n",
        "\n",
        "먼저 트렌드, 즉 유행이 있는지 먼저 점검을 하기 위해 년도별로 정리를 한 이후, 특정 년도에서 특정 장르가 많이 나왔는지를 살펴볼 생각입니다."
      ]
    },
    {
      "cell_type": "code",
      "metadata": {
        "colab": {
          "base_uri": "https://localhost:8080/",
          "height": 414
        },
        "id": "ihC9Y2lt6ZNU",
        "outputId": "86946f5a-a255-4c1b-b9be-e2279c48a8b5"
      },
      "source": [
        "year = df.sort_values(by = 'Year', ascending = True)\n",
        "df1 = year\n",
        "df1"
      ],
      "execution_count": 18,
      "outputs": [
        {
          "output_type": "execute_result",
          "data": {
            "text/html": [
              "<div>\n",
              "<style scoped>\n",
              "    .dataframe tbody tr th:only-of-type {\n",
              "        vertical-align: middle;\n",
              "    }\n",
              "\n",
              "    .dataframe tbody tr th {\n",
              "        vertical-align: top;\n",
              "    }\n",
              "\n",
              "    .dataframe thead th {\n",
              "        text-align: right;\n",
              "    }\n",
              "</style>\n",
              "<table border=\"1\" class=\"dataframe\">\n",
              "  <thead>\n",
              "    <tr style=\"text-align: right;\">\n",
              "      <th></th>\n",
              "      <th>Name</th>\n",
              "      <th>Platform</th>\n",
              "      <th>Year</th>\n",
              "      <th>Genre</th>\n",
              "      <th>Publisher</th>\n",
              "      <th>NA_Sales</th>\n",
              "      <th>EU_Sales</th>\n",
              "      <th>JP_Sales</th>\n",
              "      <th>Other_Sales</th>\n",
              "    </tr>\n",
              "  </thead>\n",
              "  <tbody>\n",
              "    <tr>\n",
              "      <th>6119</th>\n",
              "      <td>Wheel of Fortune</td>\n",
              "      <td>2600</td>\n",
              "      <td>1975.0</td>\n",
              "      <td>Misc</td>\n",
              "      <td>Unknown</td>\n",
              "      <td>47.0</td>\n",
              "      <td>36.0</td>\n",
              "      <td>0.0</td>\n",
              "      <td>12.0</td>\n",
              "    </tr>\n",
              "    <tr>\n",
              "      <th>11317</th>\n",
              "      <td>Air-Sea Battle</td>\n",
              "      <td>2600</td>\n",
              "      <td>1977.0</td>\n",
              "      <td>Shooter</td>\n",
              "      <td>Atari</td>\n",
              "      <td>91.0</td>\n",
              "      <td>6.0</td>\n",
              "      <td>0.0</td>\n",
              "      <td>1.0</td>\n",
              "    </tr>\n",
              "    <tr>\n",
              "      <th>13903</th>\n",
              "      <td>Indy 500</td>\n",
              "      <td>2600</td>\n",
              "      <td>1977.0</td>\n",
              "      <td>Racing</td>\n",
              "      <td>Atari</td>\n",
              "      <td>26.0</td>\n",
              "      <td>1.0</td>\n",
              "      <td>0.0</td>\n",
              "      <td>0.0</td>\n",
              "    </tr>\n",
              "    <tr>\n",
              "      <th>14766</th>\n",
              "      <td>Combat</td>\n",
              "      <td>2600</td>\n",
              "      <td>1977.0</td>\n",
              "      <td>Action</td>\n",
              "      <td>Atari</td>\n",
              "      <td>117.0</td>\n",
              "      <td>7.0</td>\n",
              "      <td>0.0</td>\n",
              "      <td>1.0</td>\n",
              "    </tr>\n",
              "    <tr>\n",
              "      <th>5231</th>\n",
              "      <td>Circus Atari</td>\n",
              "      <td>2600</td>\n",
              "      <td>1977.0</td>\n",
              "      <td>Action</td>\n",
              "      <td>Atari</td>\n",
              "      <td>43.0</td>\n",
              "      <td>3.0</td>\n",
              "      <td>0.0</td>\n",
              "      <td>0.0</td>\n",
              "    </tr>\n",
              "    <tr>\n",
              "      <th>...</th>\n",
              "      <td>...</td>\n",
              "      <td>...</td>\n",
              "      <td>...</td>\n",
              "      <td>...</td>\n",
              "      <td>...</td>\n",
              "      <td>...</td>\n",
              "      <td>...</td>\n",
              "      <td>...</td>\n",
              "      <td>...</td>\n",
              "    </tr>\n",
              "    <tr>\n",
              "      <th>2796</th>\n",
              "      <td>Call of Duty: Modern Warfare Trilogy</td>\n",
              "      <td>X360</td>\n",
              "      <td>2016.0</td>\n",
              "      <td>Shooter</td>\n",
              "      <td>Activision</td>\n",
              "      <td>1.0</td>\n",
              "      <td>1.0</td>\n",
              "      <td>0.0</td>\n",
              "      <td>0.0</td>\n",
              "    </tr>\n",
              "    <tr>\n",
              "      <th>16389</th>\n",
              "      <td>Project Setsuna</td>\n",
              "      <td>PSV</td>\n",
              "      <td>2016.0</td>\n",
              "      <td>Role-Playing</td>\n",
              "      <td>Square Enix</td>\n",
              "      <td>0.0</td>\n",
              "      <td>0.0</td>\n",
              "      <td>5.0</td>\n",
              "      <td>0.0</td>\n",
              "    </tr>\n",
              "    <tr>\n",
              "      <th>9677</th>\n",
              "      <td>Mirror's Edge Catalyst</td>\n",
              "      <td>PS4</td>\n",
              "      <td>2016.0</td>\n",
              "      <td>Platform</td>\n",
              "      <td>Electronic Arts</td>\n",
              "      <td>10.0</td>\n",
              "      <td>14.0</td>\n",
              "      <td>2.0</td>\n",
              "      <td>6.0</td>\n",
              "    </tr>\n",
              "    <tr>\n",
              "      <th>6393</th>\n",
              "      <td>Brothers in Arms: Furious 4</td>\n",
              "      <td>X360</td>\n",
              "      <td>NaN</td>\n",
              "      <td>Shooter</td>\n",
              "      <td>NaN</td>\n",
              "      <td>1.0</td>\n",
              "      <td>0.0</td>\n",
              "      <td>0.0</td>\n",
              "      <td>0.0</td>\n",
              "    </tr>\n",
              "    <tr>\n",
              "      <th>13767</th>\n",
              "      <td>Housekeeping</td>\n",
              "      <td>DS</td>\n",
              "      <td>NaN</td>\n",
              "      <td>Action</td>\n",
              "      <td>NaN</td>\n",
              "      <td>0.0</td>\n",
              "      <td>0.0</td>\n",
              "      <td>4.0</td>\n",
              "      <td>0.0</td>\n",
              "    </tr>\n",
              "  </tbody>\n",
              "</table>\n",
              "<p>16598 rows × 9 columns</p>\n",
              "</div>"
            ],
            "text/plain": [
              "                                       Name Platform  ...  JP_Sales Other_Sales\n",
              "6119                       Wheel of Fortune     2600  ...       0.0        12.0\n",
              "11317                        Air-Sea Battle     2600  ...       0.0         1.0\n",
              "13903                              Indy 500     2600  ...       0.0         0.0\n",
              "14766                                Combat     2600  ...       0.0         1.0\n",
              "5231                           Circus Atari     2600  ...       0.0         0.0\n",
              "...                                     ...      ...  ...       ...         ...\n",
              "2796   Call of Duty: Modern Warfare Trilogy     X360  ...       0.0         0.0\n",
              "16389                       Project Setsuna      PSV  ...       5.0         0.0\n",
              "9677                 Mirror's Edge Catalyst      PS4  ...       2.0         6.0\n",
              "6393            Brothers in Arms: Furious 4     X360  ...       0.0         0.0\n",
              "13767                          Housekeeping       DS  ...       4.0         0.0\n",
              "\n",
              "[16598 rows x 9 columns]"
            ]
          },
          "metadata": {
            "tags": []
          },
          "execution_count": 18
        }
      ]
    },
    {
      "cell_type": "markdown",
      "metadata": {
        "id": "s6yLwIp__3Ny"
      },
      "source": [
        "*Brothers in Arms: Furious 4\t위에서 잠깐 언급했었는데, E3에서 제작하기로 발표했던 작품이지만 개발과정에서 문제가 생겨서 아예 출시되지 않았습니다.*\n",
        "\n",
        "*Housekeeping은 아무리 뒤져도 언제 발매된 작품인지 찾을 수가 없어서(사실은 작품 자체를 찾지 못했습니다) 그냥 결측치로 처리했습니다.*\n",
        "\n",
        "일단 년도별로 데이터프레임 정리를 마쳤습니다."
      ]
    },
    {
      "cell_type": "code",
      "metadata": {
        "colab": {
          "base_uri": "https://localhost:8080/"
        },
        "id": "WpxPylEF8GAZ",
        "outputId": "a89dd473-ab44-408d-f508-4b451bb88dc1"
      },
      "source": [
        "trend = df1[\"Genre\"].groupby(df1[\"Year\"])\n",
        "trend.size()"
      ],
      "execution_count": 19,
      "outputs": [
        {
          "output_type": "execute_result",
          "data": {
            "text/plain": [
              "Year\n",
              "1975.0       1\n",
              "1977.0       4\n",
              "1978.0       6\n",
              "1979.0       1\n",
              "1980.0      14\n",
              "1981.0      46\n",
              "1982.0      38\n",
              "1983.0      17\n",
              "1984.0      15\n",
              "1985.0      14\n",
              "1986.0      21\n",
              "1987.0      15\n",
              "1988.0      15\n",
              "1989.0      18\n",
              "1990.0      16\n",
              "1991.0      41\n",
              "1992.0      43\n",
              "1993.0      62\n",
              "1994.0     121\n",
              "1995.0     219\n",
              "1996.0     264\n",
              "1997.0     292\n",
              "1998.0     381\n",
              "1999.0     342\n",
              "2000.0     353\n",
              "2001.0     490\n",
              "2002.0     852\n",
              "2003.0     785\n",
              "2004.0     776\n",
              "2005.0     955\n",
              "2006.0    1032\n",
              "2007.0    1218\n",
              "2008.0    1456\n",
              "2009.0    1451\n",
              "2010.0    1284\n",
              "2011.0    1177\n",
              "2012.0     664\n",
              "2013.0     549\n",
              "2014.0     584\n",
              "2015.0     615\n",
              "2016.0     349\n",
              "Name: Genre, dtype: int64"
            ]
          },
          "metadata": {
            "tags": []
          },
          "execution_count": 19
        }
      ]
    },
    {
      "cell_type": "markdown",
      "metadata": {
        "id": "vLis-ISTD2BZ"
      },
      "source": [
        "그룹바이를 진행한 이후 각 년도별로 몇 개의 게임이 나왔는지를 한 번 체크했습니다.\n",
        "\n",
        "이것을 진행한 이유가 무엇이냐면 1993년도까지의 데이터를 아예 제외시키기 위함인데, 그 이유는 간단합니다. 왜냐면 이때 당시의 게임들의 장르 및 유행을 무시할 수 있는 이유가 충분하기 때문입니다.\n",
        "\n",
        "그 이유는 바로 위에서 언급했던 게임의 한계 때문입니다. 1990년도까지, 매해 개발된 게임의 갯수는 100개가 되지 않습니다. 그 이유는 바로 \"기술력\"의 한계 때문입니다. 당시에는 기술력이 발달되지 않아 만들 수 있는 게임의 장르 자체가 제한되어 있었으며, 게임 산업이 막 태동했을 때라 제대로 된 장르 개발이 되지 않았을 때입니다.\n",
        "\n",
        "이후 90년도 중반 대에 들어서면서 개발되는 게임의 숫자가 기하급수적으로 늘어나는데, 이는 개인 pc와 인터넷 망의 보급이 이루어지면서 가능했던 일입니다.\n",
        "\n",
        "때문에 저는 93년도 이하의 기록들은 유행과는 큰 상관이 없다는 입장입니다. 게임이라는 것 자체가 유행을 타면 탔지, 특정 장르가 유행을 탄 것이 아니라는 말입니다.\n",
        "\n",
        "또한, 위의 수치를 보면 2012년도부터 나오는 게임의 숫자가 또 다시 줄어드는데, 이는 2012년에 여러 대작 게임들이 쏟아지며(보더랜드, 파크라이, 저니, 엑스콤, 그 외 등등) 게이머들의 눈이 한 단계 올라갔으며, 크라우드 펀딩이 이때부터 시작되면서부터 퀼리티를 챙기는 대신 게임별 개발 기간이 늘었기 때문입니다."
      ]
    },
    {
      "cell_type": "markdown",
      "metadata": {
        "id": "bHmOlsMBRKrH"
      },
      "source": [
        "이에 저는 1994년부터 2011년까지의 데이터를 가지고 당시에 유행이라고 할만한, 트렌드라고 할 만한 흐름이 있었는지 살펴보기로 했습니다."
      ]
    },
    {
      "cell_type": "code",
      "metadata": {
        "colab": {
          "base_uri": "https://localhost:8080/",
          "height": 414
        },
        "id": "YaAeqLksQWH9",
        "outputId": "8c68b66f-d860-40bd-fc05-86c92c66cdfa"
      },
      "source": [
        "df1"
      ],
      "execution_count": 20,
      "outputs": [
        {
          "output_type": "execute_result",
          "data": {
            "text/html": [
              "<div>\n",
              "<style scoped>\n",
              "    .dataframe tbody tr th:only-of-type {\n",
              "        vertical-align: middle;\n",
              "    }\n",
              "\n",
              "    .dataframe tbody tr th {\n",
              "        vertical-align: top;\n",
              "    }\n",
              "\n",
              "    .dataframe thead th {\n",
              "        text-align: right;\n",
              "    }\n",
              "</style>\n",
              "<table border=\"1\" class=\"dataframe\">\n",
              "  <thead>\n",
              "    <tr style=\"text-align: right;\">\n",
              "      <th></th>\n",
              "      <th>Name</th>\n",
              "      <th>Platform</th>\n",
              "      <th>Year</th>\n",
              "      <th>Genre</th>\n",
              "      <th>Publisher</th>\n",
              "      <th>NA_Sales</th>\n",
              "      <th>EU_Sales</th>\n",
              "      <th>JP_Sales</th>\n",
              "      <th>Other_Sales</th>\n",
              "    </tr>\n",
              "  </thead>\n",
              "  <tbody>\n",
              "    <tr>\n",
              "      <th>6119</th>\n",
              "      <td>Wheel of Fortune</td>\n",
              "      <td>2600</td>\n",
              "      <td>1975.0</td>\n",
              "      <td>Misc</td>\n",
              "      <td>Unknown</td>\n",
              "      <td>47.0</td>\n",
              "      <td>36.0</td>\n",
              "      <td>0.0</td>\n",
              "      <td>12.0</td>\n",
              "    </tr>\n",
              "    <tr>\n",
              "      <th>11317</th>\n",
              "      <td>Air-Sea Battle</td>\n",
              "      <td>2600</td>\n",
              "      <td>1977.0</td>\n",
              "      <td>Shooter</td>\n",
              "      <td>Atari</td>\n",
              "      <td>91.0</td>\n",
              "      <td>6.0</td>\n",
              "      <td>0.0</td>\n",
              "      <td>1.0</td>\n",
              "    </tr>\n",
              "    <tr>\n",
              "      <th>13903</th>\n",
              "      <td>Indy 500</td>\n",
              "      <td>2600</td>\n",
              "      <td>1977.0</td>\n",
              "      <td>Racing</td>\n",
              "      <td>Atari</td>\n",
              "      <td>26.0</td>\n",
              "      <td>1.0</td>\n",
              "      <td>0.0</td>\n",
              "      <td>0.0</td>\n",
              "    </tr>\n",
              "    <tr>\n",
              "      <th>14766</th>\n",
              "      <td>Combat</td>\n",
              "      <td>2600</td>\n",
              "      <td>1977.0</td>\n",
              "      <td>Action</td>\n",
              "      <td>Atari</td>\n",
              "      <td>117.0</td>\n",
              "      <td>7.0</td>\n",
              "      <td>0.0</td>\n",
              "      <td>1.0</td>\n",
              "    </tr>\n",
              "    <tr>\n",
              "      <th>5231</th>\n",
              "      <td>Circus Atari</td>\n",
              "      <td>2600</td>\n",
              "      <td>1977.0</td>\n",
              "      <td>Action</td>\n",
              "      <td>Atari</td>\n",
              "      <td>43.0</td>\n",
              "      <td>3.0</td>\n",
              "      <td>0.0</td>\n",
              "      <td>0.0</td>\n",
              "    </tr>\n",
              "    <tr>\n",
              "      <th>...</th>\n",
              "      <td>...</td>\n",
              "      <td>...</td>\n",
              "      <td>...</td>\n",
              "      <td>...</td>\n",
              "      <td>...</td>\n",
              "      <td>...</td>\n",
              "      <td>...</td>\n",
              "      <td>...</td>\n",
              "      <td>...</td>\n",
              "    </tr>\n",
              "    <tr>\n",
              "      <th>2796</th>\n",
              "      <td>Call of Duty: Modern Warfare Trilogy</td>\n",
              "      <td>X360</td>\n",
              "      <td>2016.0</td>\n",
              "      <td>Shooter</td>\n",
              "      <td>Activision</td>\n",
              "      <td>1.0</td>\n",
              "      <td>1.0</td>\n",
              "      <td>0.0</td>\n",
              "      <td>0.0</td>\n",
              "    </tr>\n",
              "    <tr>\n",
              "      <th>16389</th>\n",
              "      <td>Project Setsuna</td>\n",
              "      <td>PSV</td>\n",
              "      <td>2016.0</td>\n",
              "      <td>Role-Playing</td>\n",
              "      <td>Square Enix</td>\n",
              "      <td>0.0</td>\n",
              "      <td>0.0</td>\n",
              "      <td>5.0</td>\n",
              "      <td>0.0</td>\n",
              "    </tr>\n",
              "    <tr>\n",
              "      <th>9677</th>\n",
              "      <td>Mirror's Edge Catalyst</td>\n",
              "      <td>PS4</td>\n",
              "      <td>2016.0</td>\n",
              "      <td>Platform</td>\n",
              "      <td>Electronic Arts</td>\n",
              "      <td>10.0</td>\n",
              "      <td>14.0</td>\n",
              "      <td>2.0</td>\n",
              "      <td>6.0</td>\n",
              "    </tr>\n",
              "    <tr>\n",
              "      <th>6393</th>\n",
              "      <td>Brothers in Arms: Furious 4</td>\n",
              "      <td>X360</td>\n",
              "      <td>NaN</td>\n",
              "      <td>Shooter</td>\n",
              "      <td>NaN</td>\n",
              "      <td>1.0</td>\n",
              "      <td>0.0</td>\n",
              "      <td>0.0</td>\n",
              "      <td>0.0</td>\n",
              "    </tr>\n",
              "    <tr>\n",
              "      <th>13767</th>\n",
              "      <td>Housekeeping</td>\n",
              "      <td>DS</td>\n",
              "      <td>NaN</td>\n",
              "      <td>Action</td>\n",
              "      <td>NaN</td>\n",
              "      <td>0.0</td>\n",
              "      <td>0.0</td>\n",
              "      <td>4.0</td>\n",
              "      <td>0.0</td>\n",
              "    </tr>\n",
              "  </tbody>\n",
              "</table>\n",
              "<p>16598 rows × 9 columns</p>\n",
              "</div>"
            ],
            "text/plain": [
              "                                       Name Platform  ...  JP_Sales Other_Sales\n",
              "6119                       Wheel of Fortune     2600  ...       0.0        12.0\n",
              "11317                        Air-Sea Battle     2600  ...       0.0         1.0\n",
              "13903                              Indy 500     2600  ...       0.0         0.0\n",
              "14766                                Combat     2600  ...       0.0         1.0\n",
              "5231                           Circus Atari     2600  ...       0.0         0.0\n",
              "...                                     ...      ...  ...       ...         ...\n",
              "2796   Call of Duty: Modern Warfare Trilogy     X360  ...       0.0         0.0\n",
              "16389                       Project Setsuna      PSV  ...       5.0         0.0\n",
              "9677                 Mirror's Edge Catalyst      PS4  ...       2.0         6.0\n",
              "6393            Brothers in Arms: Furious 4     X360  ...       0.0         0.0\n",
              "13767                          Housekeeping       DS  ...       4.0         0.0\n",
              "\n",
              "[16598 rows x 9 columns]"
            ]
          },
          "metadata": {
            "tags": []
          },
          "execution_count": 20
        }
      ]
    },
    {
      "cell_type": "code",
      "metadata": {
        "colab": {
          "base_uri": "https://localhost:8080/",
          "height": 414
        },
        "id": "t60MSs2AuVGf",
        "outputId": "a7f753ba-6f10-4291-f712-1a33e7e86b36"
      },
      "source": [
        "df2 =df1.drop(\"Name\", axis = 1)\n",
        "df2"
      ],
      "execution_count": 21,
      "outputs": [
        {
          "output_type": "execute_result",
          "data": {
            "text/html": [
              "<div>\n",
              "<style scoped>\n",
              "    .dataframe tbody tr th:only-of-type {\n",
              "        vertical-align: middle;\n",
              "    }\n",
              "\n",
              "    .dataframe tbody tr th {\n",
              "        vertical-align: top;\n",
              "    }\n",
              "\n",
              "    .dataframe thead th {\n",
              "        text-align: right;\n",
              "    }\n",
              "</style>\n",
              "<table border=\"1\" class=\"dataframe\">\n",
              "  <thead>\n",
              "    <tr style=\"text-align: right;\">\n",
              "      <th></th>\n",
              "      <th>Platform</th>\n",
              "      <th>Year</th>\n",
              "      <th>Genre</th>\n",
              "      <th>Publisher</th>\n",
              "      <th>NA_Sales</th>\n",
              "      <th>EU_Sales</th>\n",
              "      <th>JP_Sales</th>\n",
              "      <th>Other_Sales</th>\n",
              "    </tr>\n",
              "  </thead>\n",
              "  <tbody>\n",
              "    <tr>\n",
              "      <th>6119</th>\n",
              "      <td>2600</td>\n",
              "      <td>1975.0</td>\n",
              "      <td>Misc</td>\n",
              "      <td>Unknown</td>\n",
              "      <td>47.0</td>\n",
              "      <td>36.0</td>\n",
              "      <td>0.0</td>\n",
              "      <td>12.0</td>\n",
              "    </tr>\n",
              "    <tr>\n",
              "      <th>11317</th>\n",
              "      <td>2600</td>\n",
              "      <td>1977.0</td>\n",
              "      <td>Shooter</td>\n",
              "      <td>Atari</td>\n",
              "      <td>91.0</td>\n",
              "      <td>6.0</td>\n",
              "      <td>0.0</td>\n",
              "      <td>1.0</td>\n",
              "    </tr>\n",
              "    <tr>\n",
              "      <th>13903</th>\n",
              "      <td>2600</td>\n",
              "      <td>1977.0</td>\n",
              "      <td>Racing</td>\n",
              "      <td>Atari</td>\n",
              "      <td>26.0</td>\n",
              "      <td>1.0</td>\n",
              "      <td>0.0</td>\n",
              "      <td>0.0</td>\n",
              "    </tr>\n",
              "    <tr>\n",
              "      <th>14766</th>\n",
              "      <td>2600</td>\n",
              "      <td>1977.0</td>\n",
              "      <td>Action</td>\n",
              "      <td>Atari</td>\n",
              "      <td>117.0</td>\n",
              "      <td>7.0</td>\n",
              "      <td>0.0</td>\n",
              "      <td>1.0</td>\n",
              "    </tr>\n",
              "    <tr>\n",
              "      <th>5231</th>\n",
              "      <td>2600</td>\n",
              "      <td>1977.0</td>\n",
              "      <td>Action</td>\n",
              "      <td>Atari</td>\n",
              "      <td>43.0</td>\n",
              "      <td>3.0</td>\n",
              "      <td>0.0</td>\n",
              "      <td>0.0</td>\n",
              "    </tr>\n",
              "    <tr>\n",
              "      <th>...</th>\n",
              "      <td>...</td>\n",
              "      <td>...</td>\n",
              "      <td>...</td>\n",
              "      <td>...</td>\n",
              "      <td>...</td>\n",
              "      <td>...</td>\n",
              "      <td>...</td>\n",
              "      <td>...</td>\n",
              "    </tr>\n",
              "    <tr>\n",
              "      <th>2796</th>\n",
              "      <td>X360</td>\n",
              "      <td>2016.0</td>\n",
              "      <td>Shooter</td>\n",
              "      <td>Activision</td>\n",
              "      <td>1.0</td>\n",
              "      <td>1.0</td>\n",
              "      <td>0.0</td>\n",
              "      <td>0.0</td>\n",
              "    </tr>\n",
              "    <tr>\n",
              "      <th>16389</th>\n",
              "      <td>PSV</td>\n",
              "      <td>2016.0</td>\n",
              "      <td>Role-Playing</td>\n",
              "      <td>Square Enix</td>\n",
              "      <td>0.0</td>\n",
              "      <td>0.0</td>\n",
              "      <td>5.0</td>\n",
              "      <td>0.0</td>\n",
              "    </tr>\n",
              "    <tr>\n",
              "      <th>9677</th>\n",
              "      <td>PS4</td>\n",
              "      <td>2016.0</td>\n",
              "      <td>Platform</td>\n",
              "      <td>Electronic Arts</td>\n",
              "      <td>10.0</td>\n",
              "      <td>14.0</td>\n",
              "      <td>2.0</td>\n",
              "      <td>6.0</td>\n",
              "    </tr>\n",
              "    <tr>\n",
              "      <th>6393</th>\n",
              "      <td>X360</td>\n",
              "      <td>NaN</td>\n",
              "      <td>Shooter</td>\n",
              "      <td>NaN</td>\n",
              "      <td>1.0</td>\n",
              "      <td>0.0</td>\n",
              "      <td>0.0</td>\n",
              "      <td>0.0</td>\n",
              "    </tr>\n",
              "    <tr>\n",
              "      <th>13767</th>\n",
              "      <td>DS</td>\n",
              "      <td>NaN</td>\n",
              "      <td>Action</td>\n",
              "      <td>NaN</td>\n",
              "      <td>0.0</td>\n",
              "      <td>0.0</td>\n",
              "      <td>4.0</td>\n",
              "      <td>0.0</td>\n",
              "    </tr>\n",
              "  </tbody>\n",
              "</table>\n",
              "<p>16598 rows × 8 columns</p>\n",
              "</div>"
            ],
            "text/plain": [
              "      Platform    Year         Genre  ... EU_Sales  JP_Sales  Other_Sales\n",
              "6119      2600  1975.0          Misc  ...     36.0       0.0         12.0\n",
              "11317     2600  1977.0       Shooter  ...      6.0       0.0          1.0\n",
              "13903     2600  1977.0        Racing  ...      1.0       0.0          0.0\n",
              "14766     2600  1977.0        Action  ...      7.0       0.0          1.0\n",
              "5231      2600  1977.0        Action  ...      3.0       0.0          0.0\n",
              "...        ...     ...           ...  ...      ...       ...          ...\n",
              "2796      X360  2016.0       Shooter  ...      1.0       0.0          0.0\n",
              "16389      PSV  2016.0  Role-Playing  ...      0.0       5.0          0.0\n",
              "9677       PS4  2016.0      Platform  ...     14.0       2.0          6.0\n",
              "6393      X360     NaN       Shooter  ...      0.0       0.0          0.0\n",
              "13767       DS     NaN        Action  ...      0.0       4.0          0.0\n",
              "\n",
              "[16598 rows x 8 columns]"
            ]
          },
          "metadata": {
            "tags": []
          },
          "execution_count": 21
        }
      ]
    },
    {
      "cell_type": "code",
      "metadata": {
        "colab": {
          "base_uri": "https://localhost:8080/",
          "height": 414
        },
        "id": "wq7-K4Vsum4Q",
        "outputId": "19a3eb8e-9502-4fff-a312-24d1bf4fa728"
      },
      "source": [
        "df2 = df2.drop(\"Platform\", axis = 1)\n",
        "df2"
      ],
      "execution_count": 22,
      "outputs": [
        {
          "output_type": "execute_result",
          "data": {
            "text/html": [
              "<div>\n",
              "<style scoped>\n",
              "    .dataframe tbody tr th:only-of-type {\n",
              "        vertical-align: middle;\n",
              "    }\n",
              "\n",
              "    .dataframe tbody tr th {\n",
              "        vertical-align: top;\n",
              "    }\n",
              "\n",
              "    .dataframe thead th {\n",
              "        text-align: right;\n",
              "    }\n",
              "</style>\n",
              "<table border=\"1\" class=\"dataframe\">\n",
              "  <thead>\n",
              "    <tr style=\"text-align: right;\">\n",
              "      <th></th>\n",
              "      <th>Year</th>\n",
              "      <th>Genre</th>\n",
              "      <th>Publisher</th>\n",
              "      <th>NA_Sales</th>\n",
              "      <th>EU_Sales</th>\n",
              "      <th>JP_Sales</th>\n",
              "      <th>Other_Sales</th>\n",
              "    </tr>\n",
              "  </thead>\n",
              "  <tbody>\n",
              "    <tr>\n",
              "      <th>6119</th>\n",
              "      <td>1975.0</td>\n",
              "      <td>Misc</td>\n",
              "      <td>Unknown</td>\n",
              "      <td>47.0</td>\n",
              "      <td>36.0</td>\n",
              "      <td>0.0</td>\n",
              "      <td>12.0</td>\n",
              "    </tr>\n",
              "    <tr>\n",
              "      <th>11317</th>\n",
              "      <td>1977.0</td>\n",
              "      <td>Shooter</td>\n",
              "      <td>Atari</td>\n",
              "      <td>91.0</td>\n",
              "      <td>6.0</td>\n",
              "      <td>0.0</td>\n",
              "      <td>1.0</td>\n",
              "    </tr>\n",
              "    <tr>\n",
              "      <th>13903</th>\n",
              "      <td>1977.0</td>\n",
              "      <td>Racing</td>\n",
              "      <td>Atari</td>\n",
              "      <td>26.0</td>\n",
              "      <td>1.0</td>\n",
              "      <td>0.0</td>\n",
              "      <td>0.0</td>\n",
              "    </tr>\n",
              "    <tr>\n",
              "      <th>14766</th>\n",
              "      <td>1977.0</td>\n",
              "      <td>Action</td>\n",
              "      <td>Atari</td>\n",
              "      <td>117.0</td>\n",
              "      <td>7.0</td>\n",
              "      <td>0.0</td>\n",
              "      <td>1.0</td>\n",
              "    </tr>\n",
              "    <tr>\n",
              "      <th>5231</th>\n",
              "      <td>1977.0</td>\n",
              "      <td>Action</td>\n",
              "      <td>Atari</td>\n",
              "      <td>43.0</td>\n",
              "      <td>3.0</td>\n",
              "      <td>0.0</td>\n",
              "      <td>0.0</td>\n",
              "    </tr>\n",
              "    <tr>\n",
              "      <th>...</th>\n",
              "      <td>...</td>\n",
              "      <td>...</td>\n",
              "      <td>...</td>\n",
              "      <td>...</td>\n",
              "      <td>...</td>\n",
              "      <td>...</td>\n",
              "      <td>...</td>\n",
              "    </tr>\n",
              "    <tr>\n",
              "      <th>2796</th>\n",
              "      <td>2016.0</td>\n",
              "      <td>Shooter</td>\n",
              "      <td>Activision</td>\n",
              "      <td>1.0</td>\n",
              "      <td>1.0</td>\n",
              "      <td>0.0</td>\n",
              "      <td>0.0</td>\n",
              "    </tr>\n",
              "    <tr>\n",
              "      <th>16389</th>\n",
              "      <td>2016.0</td>\n",
              "      <td>Role-Playing</td>\n",
              "      <td>Square Enix</td>\n",
              "      <td>0.0</td>\n",
              "      <td>0.0</td>\n",
              "      <td>5.0</td>\n",
              "      <td>0.0</td>\n",
              "    </tr>\n",
              "    <tr>\n",
              "      <th>9677</th>\n",
              "      <td>2016.0</td>\n",
              "      <td>Platform</td>\n",
              "      <td>Electronic Arts</td>\n",
              "      <td>10.0</td>\n",
              "      <td>14.0</td>\n",
              "      <td>2.0</td>\n",
              "      <td>6.0</td>\n",
              "    </tr>\n",
              "    <tr>\n",
              "      <th>6393</th>\n",
              "      <td>NaN</td>\n",
              "      <td>Shooter</td>\n",
              "      <td>NaN</td>\n",
              "      <td>1.0</td>\n",
              "      <td>0.0</td>\n",
              "      <td>0.0</td>\n",
              "      <td>0.0</td>\n",
              "    </tr>\n",
              "    <tr>\n",
              "      <th>13767</th>\n",
              "      <td>NaN</td>\n",
              "      <td>Action</td>\n",
              "      <td>NaN</td>\n",
              "      <td>0.0</td>\n",
              "      <td>0.0</td>\n",
              "      <td>4.0</td>\n",
              "      <td>0.0</td>\n",
              "    </tr>\n",
              "  </tbody>\n",
              "</table>\n",
              "<p>16598 rows × 7 columns</p>\n",
              "</div>"
            ],
            "text/plain": [
              "         Year         Genre        Publisher  ...  EU_Sales  JP_Sales  Other_Sales\n",
              "6119   1975.0          Misc          Unknown  ...      36.0       0.0         12.0\n",
              "11317  1977.0       Shooter            Atari  ...       6.0       0.0          1.0\n",
              "13903  1977.0        Racing            Atari  ...       1.0       0.0          0.0\n",
              "14766  1977.0        Action            Atari  ...       7.0       0.0          1.0\n",
              "5231   1977.0        Action            Atari  ...       3.0       0.0          0.0\n",
              "...       ...           ...              ...  ...       ...       ...          ...\n",
              "2796   2016.0       Shooter       Activision  ...       1.0       0.0          0.0\n",
              "16389  2016.0  Role-Playing      Square Enix  ...       0.0       5.0          0.0\n",
              "9677   2016.0      Platform  Electronic Arts  ...      14.0       2.0          6.0\n",
              "6393      NaN       Shooter              NaN  ...       0.0       0.0          0.0\n",
              "13767     NaN        Action              NaN  ...       0.0       4.0          0.0\n",
              "\n",
              "[16598 rows x 7 columns]"
            ]
          },
          "metadata": {
            "tags": []
          },
          "execution_count": 22
        }
      ]
    },
    {
      "cell_type": "code",
      "metadata": {
        "colab": {
          "base_uri": "https://localhost:8080/",
          "height": 414
        },
        "id": "bONj6-1yuvxC",
        "outputId": "cfdfffe8-c152-4b55-9a18-b645e849bcf7"
      },
      "source": [
        "df2 = df2.drop(\"Publisher\", axis = 1)\n",
        "df2"
      ],
      "execution_count": 23,
      "outputs": [
        {
          "output_type": "execute_result",
          "data": {
            "text/html": [
              "<div>\n",
              "<style scoped>\n",
              "    .dataframe tbody tr th:only-of-type {\n",
              "        vertical-align: middle;\n",
              "    }\n",
              "\n",
              "    .dataframe tbody tr th {\n",
              "        vertical-align: top;\n",
              "    }\n",
              "\n",
              "    .dataframe thead th {\n",
              "        text-align: right;\n",
              "    }\n",
              "</style>\n",
              "<table border=\"1\" class=\"dataframe\">\n",
              "  <thead>\n",
              "    <tr style=\"text-align: right;\">\n",
              "      <th></th>\n",
              "      <th>Year</th>\n",
              "      <th>Genre</th>\n",
              "      <th>NA_Sales</th>\n",
              "      <th>EU_Sales</th>\n",
              "      <th>JP_Sales</th>\n",
              "      <th>Other_Sales</th>\n",
              "    </tr>\n",
              "  </thead>\n",
              "  <tbody>\n",
              "    <tr>\n",
              "      <th>6119</th>\n",
              "      <td>1975.0</td>\n",
              "      <td>Misc</td>\n",
              "      <td>47.0</td>\n",
              "      <td>36.0</td>\n",
              "      <td>0.0</td>\n",
              "      <td>12.0</td>\n",
              "    </tr>\n",
              "    <tr>\n",
              "      <th>11317</th>\n",
              "      <td>1977.0</td>\n",
              "      <td>Shooter</td>\n",
              "      <td>91.0</td>\n",
              "      <td>6.0</td>\n",
              "      <td>0.0</td>\n",
              "      <td>1.0</td>\n",
              "    </tr>\n",
              "    <tr>\n",
              "      <th>13903</th>\n",
              "      <td>1977.0</td>\n",
              "      <td>Racing</td>\n",
              "      <td>26.0</td>\n",
              "      <td>1.0</td>\n",
              "      <td>0.0</td>\n",
              "      <td>0.0</td>\n",
              "    </tr>\n",
              "    <tr>\n",
              "      <th>14766</th>\n",
              "      <td>1977.0</td>\n",
              "      <td>Action</td>\n",
              "      <td>117.0</td>\n",
              "      <td>7.0</td>\n",
              "      <td>0.0</td>\n",
              "      <td>1.0</td>\n",
              "    </tr>\n",
              "    <tr>\n",
              "      <th>5231</th>\n",
              "      <td>1977.0</td>\n",
              "      <td>Action</td>\n",
              "      <td>43.0</td>\n",
              "      <td>3.0</td>\n",
              "      <td>0.0</td>\n",
              "      <td>0.0</td>\n",
              "    </tr>\n",
              "    <tr>\n",
              "      <th>...</th>\n",
              "      <td>...</td>\n",
              "      <td>...</td>\n",
              "      <td>...</td>\n",
              "      <td>...</td>\n",
              "      <td>...</td>\n",
              "      <td>...</td>\n",
              "    </tr>\n",
              "    <tr>\n",
              "      <th>2796</th>\n",
              "      <td>2016.0</td>\n",
              "      <td>Shooter</td>\n",
              "      <td>1.0</td>\n",
              "      <td>1.0</td>\n",
              "      <td>0.0</td>\n",
              "      <td>0.0</td>\n",
              "    </tr>\n",
              "    <tr>\n",
              "      <th>16389</th>\n",
              "      <td>2016.0</td>\n",
              "      <td>Role-Playing</td>\n",
              "      <td>0.0</td>\n",
              "      <td>0.0</td>\n",
              "      <td>5.0</td>\n",
              "      <td>0.0</td>\n",
              "    </tr>\n",
              "    <tr>\n",
              "      <th>9677</th>\n",
              "      <td>2016.0</td>\n",
              "      <td>Platform</td>\n",
              "      <td>10.0</td>\n",
              "      <td>14.0</td>\n",
              "      <td>2.0</td>\n",
              "      <td>6.0</td>\n",
              "    </tr>\n",
              "    <tr>\n",
              "      <th>6393</th>\n",
              "      <td>NaN</td>\n",
              "      <td>Shooter</td>\n",
              "      <td>1.0</td>\n",
              "      <td>0.0</td>\n",
              "      <td>0.0</td>\n",
              "      <td>0.0</td>\n",
              "    </tr>\n",
              "    <tr>\n",
              "      <th>13767</th>\n",
              "      <td>NaN</td>\n",
              "      <td>Action</td>\n",
              "      <td>0.0</td>\n",
              "      <td>0.0</td>\n",
              "      <td>4.0</td>\n",
              "      <td>0.0</td>\n",
              "    </tr>\n",
              "  </tbody>\n",
              "</table>\n",
              "<p>16598 rows × 6 columns</p>\n",
              "</div>"
            ],
            "text/plain": [
              "         Year         Genre  NA_Sales  EU_Sales  JP_Sales  Other_Sales\n",
              "6119   1975.0          Misc      47.0      36.0       0.0         12.0\n",
              "11317  1977.0       Shooter      91.0       6.0       0.0          1.0\n",
              "13903  1977.0        Racing      26.0       1.0       0.0          0.0\n",
              "14766  1977.0        Action     117.0       7.0       0.0          1.0\n",
              "5231   1977.0        Action      43.0       3.0       0.0          0.0\n",
              "...       ...           ...       ...       ...       ...          ...\n",
              "2796   2016.0       Shooter       1.0       1.0       0.0          0.0\n",
              "16389  2016.0  Role-Playing       0.0       0.0       5.0          0.0\n",
              "9677   2016.0      Platform      10.0      14.0       2.0          6.0\n",
              "6393      NaN       Shooter       1.0       0.0       0.0          0.0\n",
              "13767     NaN        Action       0.0       0.0       4.0          0.0\n",
              "\n",
              "[16598 rows x 6 columns]"
            ]
          },
          "metadata": {
            "tags": []
          },
          "execution_count": 23
        }
      ]
    },
    {
      "cell_type": "code",
      "metadata": {
        "colab": {
          "base_uri": "https://localhost:8080/"
        },
        "id": "aZCmExpwty8k",
        "outputId": "930901a8-e9fb-41f2-cfd5-a00ad6f7d47a"
      },
      "source": [
        "NAS = df2[\"NA_Sales\"].groupby([df2[\"Year\"],df2[\"Genre\"]]).sum()\n",
        "NAS"
      ],
      "execution_count": 24,
      "outputs": [
        {
          "output_type": "execute_result",
          "data": {
            "text/plain": [
              "Year    Genre       \n",
              "1975.0  Misc             47.0\n",
              "1977.0  Action          160.0\n",
              "        Racing           26.0\n",
              "        Shooter          91.0\n",
              "1978.0  Action           25.0\n",
              "                        ...  \n",
              "2016.0  Role-Playing    139.0\n",
              "        Shooter         749.0\n",
              "        Simulation        0.0\n",
              "        Sports          457.0\n",
              "        Strategy         11.0\n",
              "Name: NA_Sales, Length: 398, dtype: float64"
            ]
          },
          "metadata": {
            "tags": []
          },
          "execution_count": 24
        }
      ]
    },
    {
      "cell_type": "code",
      "metadata": {
        "id": "sJ4e9XrO4eBx"
      },
      "source": [
        "EUS =  df2[\"EU_Sales\"].groupby([df2[\"Year\"],df2[\"Genre\"]]).sum()"
      ],
      "execution_count": 25,
      "outputs": []
    },
    {
      "cell_type": "code",
      "metadata": {
        "id": "WEwlECvD8x33"
      },
      "source": [
        "JPS =  df2[\"JP_Sales\"].groupby([df2[\"Year\"],df2[\"Genre\"]]).sum()\n",
        "OTS =  df2[\"Other_Sales\"].groupby([df2[\"Year\"],df2[\"Genre\"]]).sum()"
      ],
      "execution_count": 26,
      "outputs": []
    },
    {
      "cell_type": "code",
      "metadata": {
        "colab": {
          "base_uri": "https://localhost:8080/"
        },
        "id": "5XNffXoQAhfb",
        "outputId": "e4e4cef0-6ff6-46b0-dacd-b14fb9e0c2a3"
      },
      "source": [
        "MG1 = NAS + EUS\n",
        "MG1"
      ],
      "execution_count": 34,
      "outputs": [
        {
          "output_type": "execute_result",
          "data": {
            "text/plain": [
              "Year    Genre       \n",
              "1975.0  Misc              83.0\n",
              "1977.0  Action           170.0\n",
              "        Racing            27.0\n",
              "        Shooter           97.0\n",
              "1978.0  Action            27.0\n",
              "                         ...  \n",
              "2016.0  Role-Playing     268.0\n",
              "        Shooter         1520.0\n",
              "        Simulation         9.0\n",
              "        Sports          1193.0\n",
              "        Strategy          46.0\n",
              "Length: 398, dtype: float64"
            ]
          },
          "metadata": {
            "tags": []
          },
          "execution_count": 34
        }
      ]
    },
    {
      "cell_type": "code",
      "metadata": {
        "colab": {
          "base_uri": "https://localhost:8080/"
        },
        "id": "L1zzFk8KBpoS",
        "outputId": "ed8a1626-05a8-4bf2-e6ab-0f4eb2065251"
      },
      "source": [
        "MG2 = NAS + EUS + JPS + OTS\n",
        "MG2"
      ],
      "execution_count": 36,
      "outputs": [
        {
          "output_type": "execute_result",
          "data": {
            "text/plain": [
              "Year    Genre       \n",
              "1975.0  Misc              95.0\n",
              "1977.0  Action           171.0\n",
              "        Racing            27.0\n",
              "        Shooter           98.0\n",
              "1978.0  Action            27.0\n",
              "                         ...  \n",
              "2016.0  Role-Playing     679.0\n",
              "        Shooter         1823.0\n",
              "        Simulation        39.0\n",
              "        Sports          1463.0\n",
              "        Strategy          55.0\n",
              "Length: 398, dtype: float64"
            ]
          },
          "metadata": {
            "tags": []
          },
          "execution_count": 36
        }
      ]
    },
    {
      "cell_type": "code",
      "metadata": {
        "colab": {
          "base_uri": "https://localhost:8080/",
          "height": 170
        },
        "id": "FfQR22iKC4pN",
        "outputId": "afb8f93b-3e1a-4029-8720-f220417228aa"
      },
      "source": [
        "df2.merge(df2, \"MG2\", how = \"inner\", axis = 1)"
      ],
      "execution_count": 49,
      "outputs": [
        {
          "output_type": "error",
          "ename": "TypeError",
          "evalue": "ignored",
          "traceback": [
            "\u001b[0;31m---------------------------------------------------------------------------\u001b[0m",
            "\u001b[0;31mTypeError\u001b[0m                                 Traceback (most recent call last)",
            "\u001b[0;32m<ipython-input-49-8bd9e111fade>\u001b[0m in \u001b[0;36m<module>\u001b[0;34m()\u001b[0m\n\u001b[0;32m----> 1\u001b[0;31m \u001b[0mdf2\u001b[0m\u001b[0;34m.\u001b[0m\u001b[0mmerge\u001b[0m\u001b[0;34m(\u001b[0m\u001b[0mdf2\u001b[0m\u001b[0;34m,\u001b[0m \u001b[0;34m\"MG2\"\u001b[0m\u001b[0;34m,\u001b[0m \u001b[0mhow\u001b[0m \u001b[0;34m=\u001b[0m \u001b[0;34m\"inner\"\u001b[0m\u001b[0;34m,\u001b[0m \u001b[0maxis\u001b[0m \u001b[0;34m=\u001b[0m \u001b[0;36m1\u001b[0m\u001b[0;34m)\u001b[0m\u001b[0;34m\u001b[0m\u001b[0;34m\u001b[0m\u001b[0m\n\u001b[0m",
            "\u001b[0;31mTypeError\u001b[0m: merge() got multiple values for argument 'how'"
          ]
        }
      ]
    },
    {
      "cell_type": "code",
      "metadata": {
        "id": "ITzOIGuqDVjh"
      },
      "source": [
        ""
      ],
      "execution_count": null,
      "outputs": []
    }
  ]
}